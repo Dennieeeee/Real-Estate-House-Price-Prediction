{
 "cells": [
  {
   "cell_type": "code",
   "execution_count": 1,
   "metadata": {},
   "outputs": [],
   "source": [
    "import pandas as pd\n",
    "import numpy as np\n",
    "import random\n",
    "import os\n",
    "import matplotlib.pyplot as plt\n",
    "%matplotlib inline\n",
    "import seaborn as sns       \n",
    "\n",
    "from scipy import stats\n",
    "from scipy.stats import  norm\n",
    "import warnings\n",
    "warnings.filterwarnings('ignore')\n",
    "from sklearn.model_selection import train_test_split\n",
    "#model\n",
    "from statsmodels.formula.api import ols\n",
    "from statsmodels.sandbox.regression.predstd import wls_prediction_std\n",
    "# linear regression\n",
    "import statsmodels.api as sm\n",
    "import statsmodels.formula.api as smf\n",
    "\n",
    "from sklearn import datasets\n",
    "from sklearn.feature_selection import RFE\n",
    "from sklearn.linear_model import LogisticRegression\n",
    "from sklearn.linear_model import LassoCV, LassoLarsCV, LassoLarsIC\n",
    "from sklearn.linear_model import Lasso\n",
    "from sklearn.linear_model import LinearRegression\n",
    "from sklearn.metrics import mean_squared_error\n",
    "from sklearn import linear_model\n",
    "from sklearn.preprocessing import StandardScaler\n",
    "from sklearn.linear_model import Ridge\n",
    "from sklearn.linear_model import Lasso\n",
    "from matplotlib.ticker import PercentFormatter\n",
    "from pylab import rcParams\n"
   ]
  },
  {
   "cell_type": "code",
   "execution_count": 2,
   "metadata": {},
   "outputs": [],
   "source": [
    "data = pd.read_csv('redfin_2020-04-09_SFO.csv')"
   ]
  },
  {
   "cell_type": "code",
   "execution_count": 3,
   "metadata": {
    "scrolled": true
   },
   "outputs": [
    {
     "data": {
      "text/html": [
       "<div>\n",
       "<style scoped>\n",
       "    .dataframe tbody tr th:only-of-type {\n",
       "        vertical-align: middle;\n",
       "    }\n",
       "\n",
       "    .dataframe tbody tr th {\n",
       "        vertical-align: top;\n",
       "    }\n",
       "\n",
       "    .dataframe thead th {\n",
       "        text-align: right;\n",
       "    }\n",
       "</style>\n",
       "<table border=\"1\" class=\"dataframe\">\n",
       "  <thead>\n",
       "    <tr style=\"text-align: right;\">\n",
       "      <th></th>\n",
       "      <th>SALE TYPE</th>\n",
       "      <th>SOLD DATE</th>\n",
       "      <th>PROPERTY TYPE</th>\n",
       "      <th>ADDRESS</th>\n",
       "      <th>CITY</th>\n",
       "      <th>STATE OR PROVINCE</th>\n",
       "      <th>ZIP OR POSTAL CODE</th>\n",
       "      <th>PRICE</th>\n",
       "      <th>BEDS</th>\n",
       "      <th>BATHS</th>\n",
       "      <th>...</th>\n",
       "      <th>STATUS</th>\n",
       "      <th>NEXT OPEN HOUSE START TIME</th>\n",
       "      <th>NEXT OPEN HOUSE END TIME</th>\n",
       "      <th>URL (SEE http://www.redfin.com/buy-a-home/comparative-market-analysis FOR INFO ON PRICING)</th>\n",
       "      <th>SOURCE</th>\n",
       "      <th>MLS#</th>\n",
       "      <th>FAVORITE</th>\n",
       "      <th>INTERESTED</th>\n",
       "      <th>LATITUDE</th>\n",
       "      <th>LONGITUDE</th>\n",
       "    </tr>\n",
       "  </thead>\n",
       "  <tbody>\n",
       "    <tr>\n",
       "      <td>0</td>\n",
       "      <td>MLS Listing</td>\n",
       "      <td>NaN</td>\n",
       "      <td>Condo/Co-op</td>\n",
       "      <td>1544 Jones St</td>\n",
       "      <td>San Francisco</td>\n",
       "      <td>CA</td>\n",
       "      <td>94109</td>\n",
       "      <td>1350000</td>\n",
       "      <td>2.0</td>\n",
       "      <td>2.0</td>\n",
       "      <td>...</td>\n",
       "      <td>Active</td>\n",
       "      <td>NaN</td>\n",
       "      <td>NaN</td>\n",
       "      <td>http://www.redfin.com/CA/San-Francisco/1544-Jo...</td>\n",
       "      <td>San Francisco MLS</td>\n",
       "      <td>496754</td>\n",
       "      <td>N</td>\n",
       "      <td>Y</td>\n",
       "      <td>37.795592</td>\n",
       "      <td>-122.414747</td>\n",
       "    </tr>\n",
       "    <tr>\n",
       "      <td>1</td>\n",
       "      <td>MLS Listing</td>\n",
       "      <td>NaN</td>\n",
       "      <td>Condo/Co-op</td>\n",
       "      <td>1 S South Park St #311</td>\n",
       "      <td>San Francisco</td>\n",
       "      <td>CA</td>\n",
       "      <td>94107</td>\n",
       "      <td>1450000</td>\n",
       "      <td>2.0</td>\n",
       "      <td>2.0</td>\n",
       "      <td>...</td>\n",
       "      <td>Active</td>\n",
       "      <td>NaN</td>\n",
       "      <td>NaN</td>\n",
       "      <td>http://www.redfin.com/CA/San-Francisco/1-S-Par...</td>\n",
       "      <td>San Francisco MLS</td>\n",
       "      <td>496645</td>\n",
       "      <td>N</td>\n",
       "      <td>Y</td>\n",
       "      <td>37.782053</td>\n",
       "      <td>-122.392835</td>\n",
       "    </tr>\n",
       "    <tr>\n",
       "      <td>2</td>\n",
       "      <td>MLS Listing</td>\n",
       "      <td>NaN</td>\n",
       "      <td>Single Family Residential</td>\n",
       "      <td>307 Faxon Ave</td>\n",
       "      <td>San Francisco</td>\n",
       "      <td>CA</td>\n",
       "      <td>94112</td>\n",
       "      <td>899000</td>\n",
       "      <td>2.0</td>\n",
       "      <td>1.0</td>\n",
       "      <td>...</td>\n",
       "      <td>Active</td>\n",
       "      <td>NaN</td>\n",
       "      <td>NaN</td>\n",
       "      <td>http://www.redfin.com/CA/San-Francisco/307-Fax...</td>\n",
       "      <td>San Francisco MLS</td>\n",
       "      <td>496300</td>\n",
       "      <td>N</td>\n",
       "      <td>Y</td>\n",
       "      <td>37.720212</td>\n",
       "      <td>-122.460457</td>\n",
       "    </tr>\n",
       "  </tbody>\n",
       "</table>\n",
       "<p>3 rows × 27 columns</p>\n",
       "</div>"
      ],
      "text/plain": [
       "     SALE TYPE  SOLD DATE              PROPERTY TYPE                 ADDRESS  \\\n",
       "0  MLS Listing        NaN                Condo/Co-op           1544 Jones St   \n",
       "1  MLS Listing        NaN                Condo/Co-op  1 S South Park St #311   \n",
       "2  MLS Listing        NaN  Single Family Residential           307 Faxon Ave   \n",
       "\n",
       "            CITY STATE OR PROVINCE  ZIP OR POSTAL CODE    PRICE  BEDS  BATHS  \\\n",
       "0  San Francisco                CA               94109  1350000   2.0    2.0   \n",
       "1  San Francisco                CA               94107  1450000   2.0    2.0   \n",
       "2  San Francisco                CA               94112   899000   2.0    1.0   \n",
       "\n",
       "   ...  STATUS  NEXT OPEN HOUSE START TIME  NEXT OPEN HOUSE END TIME  \\\n",
       "0  ...  Active                         NaN                       NaN   \n",
       "1  ...  Active                         NaN                       NaN   \n",
       "2  ...  Active                         NaN                       NaN   \n",
       "\n",
       "   URL (SEE http://www.redfin.com/buy-a-home/comparative-market-analysis FOR INFO ON PRICING)  \\\n",
       "0  http://www.redfin.com/CA/San-Francisco/1544-Jo...                                            \n",
       "1  http://www.redfin.com/CA/San-Francisco/1-S-Par...                                            \n",
       "2  http://www.redfin.com/CA/San-Francisco/307-Fax...                                            \n",
       "\n",
       "              SOURCE    MLS#  FAVORITE INTERESTED   LATITUDE   LONGITUDE  \n",
       "0  San Francisco MLS  496754         N          Y  37.795592 -122.414747  \n",
       "1  San Francisco MLS  496645         N          Y  37.782053 -122.392835  \n",
       "2  San Francisco MLS  496300         N          Y  37.720212 -122.460457  \n",
       "\n",
       "[3 rows x 27 columns]"
      ]
     },
     "execution_count": 3,
     "metadata": {},
     "output_type": "execute_result"
    }
   ],
   "source": [
    "data.head(3)"
   ]
  },
  {
   "cell_type": "code",
   "execution_count": 4,
   "metadata": {},
   "outputs": [
    {
     "data": {
      "text/html": [
       "<div>\n",
       "<style scoped>\n",
       "    .dataframe tbody tr th:only-of-type {\n",
       "        vertical-align: middle;\n",
       "    }\n",
       "\n",
       "    .dataframe tbody tr th {\n",
       "        vertical-align: top;\n",
       "    }\n",
       "\n",
       "    .dataframe thead th {\n",
       "        text-align: right;\n",
       "    }\n",
       "</style>\n",
       "<table border=\"1\" class=\"dataframe\">\n",
       "  <thead>\n",
       "    <tr style=\"text-align: right;\">\n",
       "      <th></th>\n",
       "      <th>SOLD DATE</th>\n",
       "      <th>ZIP OR POSTAL CODE</th>\n",
       "      <th>PRICE</th>\n",
       "      <th>BEDS</th>\n",
       "      <th>BATHS</th>\n",
       "      <th>SQUARE FEET</th>\n",
       "      <th>LOT SIZE</th>\n",
       "      <th>YEAR BUILT</th>\n",
       "      <th>DAYS ON MARKET</th>\n",
       "      <th>$/SQUARE FEET</th>\n",
       "      <th>HOA/MONTH</th>\n",
       "      <th>LATITUDE</th>\n",
       "      <th>LONGITUDE</th>\n",
       "    </tr>\n",
       "  </thead>\n",
       "  <tbody>\n",
       "    <tr>\n",
       "      <td>count</td>\n",
       "      <td>0.0</td>\n",
       "      <td>350.000000</td>\n",
       "      <td>3.500000e+02</td>\n",
       "      <td>337.000000</td>\n",
       "      <td>320.000000</td>\n",
       "      <td>312.000000</td>\n",
       "      <td>1.510000e+02</td>\n",
       "      <td>326.000000</td>\n",
       "      <td>350.000000</td>\n",
       "      <td>312.000000</td>\n",
       "      <td>186.000000</td>\n",
       "      <td>350.000000</td>\n",
       "      <td>350.000000</td>\n",
       "    </tr>\n",
       "    <tr>\n",
       "      <td>mean</td>\n",
       "      <td>NaN</td>\n",
       "      <td>94115.002857</td>\n",
       "      <td>2.007335e+06</td>\n",
       "      <td>2.967359</td>\n",
       "      <td>2.178125</td>\n",
       "      <td>2061.974359</td>\n",
       "      <td>1.196197e+06</td>\n",
       "      <td>1958.641104</td>\n",
       "      <td>34.014286</td>\n",
       "      <td>1091.512821</td>\n",
       "      <td>723.575269</td>\n",
       "      <td>37.766510</td>\n",
       "      <td>-122.425562</td>\n",
       "    </tr>\n",
       "    <tr>\n",
       "      <td>std</td>\n",
       "      <td>NaN</td>\n",
       "      <td>15.726622</td>\n",
       "      <td>1.369201e+06</td>\n",
       "      <td>2.213756</td>\n",
       "      <td>1.126549</td>\n",
       "      <td>1614.823911</td>\n",
       "      <td>1.466130e+07</td>\n",
       "      <td>45.893958</td>\n",
       "      <td>20.878481</td>\n",
       "      <td>401.806387</td>\n",
       "      <td>390.058675</td>\n",
       "      <td>0.024149</td>\n",
       "      <td>0.030115</td>\n",
       "    </tr>\n",
       "    <tr>\n",
       "      <td>min</td>\n",
       "      <td>NaN</td>\n",
       "      <td>94014.000000</td>\n",
       "      <td>2.990000e+05</td>\n",
       "      <td>0.000000</td>\n",
       "      <td>0.500000</td>\n",
       "      <td>262.000000</td>\n",
       "      <td>7.500000e+02</td>\n",
       "      <td>1878.000000</td>\n",
       "      <td>1.000000</td>\n",
       "      <td>88.000000</td>\n",
       "      <td>3.000000</td>\n",
       "      <td>37.708045</td>\n",
       "      <td>-122.510420</td>\n",
       "    </tr>\n",
       "    <tr>\n",
       "      <td>25%</td>\n",
       "      <td>NaN</td>\n",
       "      <td>94107.000000</td>\n",
       "      <td>1.080222e+06</td>\n",
       "      <td>2.000000</td>\n",
       "      <td>1.000000</td>\n",
       "      <td>1000.750000</td>\n",
       "      <td>2.273000e+03</td>\n",
       "      <td>1912.250000</td>\n",
       "      <td>14.000000</td>\n",
       "      <td>827.250000</td>\n",
       "      <td>489.000000</td>\n",
       "      <td>37.749928</td>\n",
       "      <td>-122.442035</td>\n",
       "    </tr>\n",
       "    <tr>\n",
       "      <td>50%</td>\n",
       "      <td>NaN</td>\n",
       "      <td>94112.000000</td>\n",
       "      <td>1.598500e+06</td>\n",
       "      <td>3.000000</td>\n",
       "      <td>2.000000</td>\n",
       "      <td>1624.500000</td>\n",
       "      <td>2.809000e+03</td>\n",
       "      <td>1957.000000</td>\n",
       "      <td>34.000000</td>\n",
       "      <td>1061.500000</td>\n",
       "      <td>631.000000</td>\n",
       "      <td>37.771624</td>\n",
       "      <td>-122.421361</td>\n",
       "    </tr>\n",
       "    <tr>\n",
       "      <td>75%</td>\n",
       "      <td>NaN</td>\n",
       "      <td>94122.750000</td>\n",
       "      <td>2.475000e+06</td>\n",
       "      <td>4.000000</td>\n",
       "      <td>3.000000</td>\n",
       "      <td>2495.500000</td>\n",
       "      <td>3.437000e+03</td>\n",
       "      <td>2007.000000</td>\n",
       "      <td>50.000000</td>\n",
       "      <td>1300.250000</td>\n",
       "      <td>925.500000</td>\n",
       "      <td>37.786499</td>\n",
       "      <td>-122.405420</td>\n",
       "    </tr>\n",
       "    <tr>\n",
       "      <td>max</td>\n",
       "      <td>NaN</td>\n",
       "      <td>94158.000000</td>\n",
       "      <td>8.880000e+06</td>\n",
       "      <td>17.000000</td>\n",
       "      <td>8.000000</td>\n",
       "      <td>12200.000000</td>\n",
       "      <td>1.801642e+08</td>\n",
       "      <td>2020.000000</td>\n",
       "      <td>76.000000</td>\n",
       "      <td>3454.000000</td>\n",
       "      <td>3083.000000</td>\n",
       "      <td>37.805510</td>\n",
       "      <td>-122.367258</td>\n",
       "    </tr>\n",
       "  </tbody>\n",
       "</table>\n",
       "</div>"
      ],
      "text/plain": [
       "       SOLD DATE  ZIP OR POSTAL CODE         PRICE        BEDS       BATHS  \\\n",
       "count        0.0          350.000000  3.500000e+02  337.000000  320.000000   \n",
       "mean         NaN        94115.002857  2.007335e+06    2.967359    2.178125   \n",
       "std          NaN           15.726622  1.369201e+06    2.213756    1.126549   \n",
       "min          NaN        94014.000000  2.990000e+05    0.000000    0.500000   \n",
       "25%          NaN        94107.000000  1.080222e+06    2.000000    1.000000   \n",
       "50%          NaN        94112.000000  1.598500e+06    3.000000    2.000000   \n",
       "75%          NaN        94122.750000  2.475000e+06    4.000000    3.000000   \n",
       "max          NaN        94158.000000  8.880000e+06   17.000000    8.000000   \n",
       "\n",
       "        SQUARE FEET      LOT SIZE   YEAR BUILT  DAYS ON MARKET  $/SQUARE FEET  \\\n",
       "count    312.000000  1.510000e+02   326.000000      350.000000     312.000000   \n",
       "mean    2061.974359  1.196197e+06  1958.641104       34.014286    1091.512821   \n",
       "std     1614.823911  1.466130e+07    45.893958       20.878481     401.806387   \n",
       "min      262.000000  7.500000e+02  1878.000000        1.000000      88.000000   \n",
       "25%     1000.750000  2.273000e+03  1912.250000       14.000000     827.250000   \n",
       "50%     1624.500000  2.809000e+03  1957.000000       34.000000    1061.500000   \n",
       "75%     2495.500000  3.437000e+03  2007.000000       50.000000    1300.250000   \n",
       "max    12200.000000  1.801642e+08  2020.000000       76.000000    3454.000000   \n",
       "\n",
       "         HOA/MONTH    LATITUDE   LONGITUDE  \n",
       "count   186.000000  350.000000  350.000000  \n",
       "mean    723.575269   37.766510 -122.425562  \n",
       "std     390.058675    0.024149    0.030115  \n",
       "min       3.000000   37.708045 -122.510420  \n",
       "25%     489.000000   37.749928 -122.442035  \n",
       "50%     631.000000   37.771624 -122.421361  \n",
       "75%     925.500000   37.786499 -122.405420  \n",
       "max    3083.000000   37.805510 -122.367258  "
      ]
     },
     "execution_count": 4,
     "metadata": {},
     "output_type": "execute_result"
    }
   ],
   "source": [
    "data.describe()"
   ]
  },
  {
   "cell_type": "markdown",
   "metadata": {},
   "source": [
    "# Exploratory Data Analysis"
   ]
  },
  {
   "cell_type": "code",
   "execution_count": 5,
   "metadata": {},
   "outputs": [
    {
     "data": {
      "image/png": "[encoded data removed]",
      "text/plain": [
       "<Figure size 432x288 with 1 Axes>"
      ]
     },
     "metadata": {
      "needs_background": "light"
     },
     "output_type": "display_data"
    }
   ],
   "source": [
    "ax = sns.countplot('BEDS',data=data)"
   ]
  },
  {
   "cell_type": "code",
   "execution_count": 6,
   "metadata": {},
   "outputs": [
    {
     "data": {
      "text/plain": [
       "<matplotlib.axes._subplots.AxesSubplot at 0x1c19c62a50>"
      ]
     },
     "execution_count": 6,
     "metadata": {},
     "output_type": "execute_result"
    },
    {
     "data": {
      "image/png": "[encoded data removed]",
      "text/plain": [
       "<Figure size 432x288 with 1 Axes>"
      ]
     },
     "metadata": {
      "needs_background": "light"
     },
     "output_type": "display_data"
    }
   ],
   "source": [
    "sns.boxplot(data=data)\n"
   ]
  },
  {
   "cell_type": "code",
   "execution_count": 7,
   "metadata": {},
   "outputs": [
    {
     "data": {
      "text/plain": [
       "<matplotlib.axes._subplots.AxesSubplot at 0x1c19e62150>"
      ]
     },
     "execution_count": 7,
     "metadata": {},
     "output_type": "execute_result"
    },
    {
     "data": {
      "image/png": "[encoded data removed]",
      "text/plain": [
       "<Figure size 432x288 with 1 Axes>"
      ]
     },
     "metadata": {
      "needs_background": "light"
     },
     "output_type": "display_data"
    }
   ],
   "source": [
    "sns.distplot(data[\"PRICE\"])"
   ]
  },
  {
   "cell_type": "code",
   "execution_count": 8,
   "metadata": {},
   "outputs": [
    {
     "data": {
      "text/plain": [
       "<matplotlib.axes._subplots.AxesSubplot at 0x1c19f37e90>"
      ]
     },
     "execution_count": 8,
     "metadata": {},
     "output_type": "execute_result"
    },
    {
     "data": {
      "image/png": "[encoded data removed]",
      "text/plain": [
       "<Figure size 432x288 with 1 Axes>"
      ]
     },
     "metadata": {
      "needs_background": "light"
     },
     "output_type": "display_data"
    }
   ],
   "source": [
    "sns.regplot(x='PRICE',y='SQUARE FEET',data=data)\n"
   ]
  },
  {
   "cell_type": "code",
   "execution_count": null,
   "metadata": {},
   "outputs": [],
   "source": []
  },
  {
   "cell_type": "code",
   "execution_count": 9,
   "metadata": {},
   "outputs": [
    {
     "data": {
      "text/plain": [
       "<matplotlib.collections.PathCollection at 0x1c1a07ff90>"
      ]
     },
     "execution_count": 9,
     "metadata": {},
     "output_type": "execute_result"
    },
    {
     "data": {
      "image/png": "[encoded data removed]",
      "text/plain": [
       "<Figure size 432x288 with 1 Axes>"
      ]
     },
     "metadata": {
      "needs_background": "light"
     },
     "output_type": "display_data"
    }
   ],
   "source": [
    "#price vs. beds and baths counts\n",
    "plt.scatter((data['BEDS']), data['PRICE'],color = 'dodgerblue')\n"
   ]
  },
  {
   "cell_type": "code",
   "execution_count": 10,
   "metadata": {},
   "outputs": [
    {
     "data": {
      "text/plain": [
       "<matplotlib.collections.PathCollection at 0x1c1a07fdd0>"
      ]
     },
     "execution_count": 10,
     "metadata": {},
     "output_type": "execute_result"
    },
    {
     "data": {
      "image/png": "[encoded data removed]",
      "text/plain": [
       "<Figure size 432x288 with 1 Axes>"
      ]
     },
     "metadata": {
      "needs_background": "light"
     },
     "output_type": "display_data"
    }
   ],
   "source": [
    "#price vs. beds and baths counts\n",
    "plt.scatter((data['BATHS']), data['PRICE'],color = 'dodgerblue')"
   ]
  },
  {
   "cell_type": "code",
   "execution_count": null,
   "metadata": {},
   "outputs": [],
   "source": []
  },
  {
   "cell_type": "code",
   "execution_count": 11,
   "metadata": {},
   "outputs": [
    {
     "data": {
      "text/plain": [
       "<matplotlib.axes._subplots.AxesSubplot at 0x1c1a094490>"
      ]
     },
     "execution_count": 11,
     "metadata": {},
     "output_type": "execute_result"
    },
    {
     "data": {
      "image/png": "[encoded data removed]",
      "text/plain": [
       "<Figure size 1080x720 with 2 Axes>"
      ]
     },
     "metadata": {
      "needs_background": "light"
     },
     "output_type": "display_data"
    }
   ],
   "source": [
    "# Correlating Features\n",
    "plt.figure(figsize=(15,10))\n",
    "colormap = sns.diverging_palette(220, 10, as_cmap = True)\n",
    "sns.heatmap(data.corr(), cmap=colormap, vmax=0.6, square=True, annot=True)"
   ]
  },
  {
   "cell_type": "markdown",
   "metadata": {},
   "source": [
    "# Data Cleansing"
   ]
  },
  {
   "cell_type": "code",
   "execution_count": 12,
   "metadata": {},
   "outputs": [],
   "source": [
    "#drop unnecessary features\n",
    "features_drop = ['SOLD DATE','ADDRESS','HOA/MONTH','STATUS','NEXT OPEN HOUSE START TIME','NEXT OPEN HOUSE END TIME',\n",
    "                'URL (SEE http://www.redfin.com/buy-a-home/comparative-market-analysis FOR INFO ON PRICING)',\n",
    "                'SOURCE','MLS#','DAYS ON MARKET','$/SQUARE FEET','SALE TYPE','PROPERTY TYPE','CITY','STATE OR PROVINCE']\n",
    "data = data.drop(features_drop,axis=1)"
   ]
  },
  {
   "cell_type": "code",
   "execution_count": 13,
   "metadata": {},
   "outputs": [],
   "source": [
    "#rename features\n",
    "data = data.rename(columns={'SQUARE FEET':'SQUARE_FEET',\n",
    "                            'LOT SIZE':'LOT_SIZE',\n",
    "                            'YEAR BUILT':'YEAR_BUILT',\n",
    "                           'SALE TYPE':'SALE_TYPE',\n",
    "                           'PROPERTY TYPE':'PROPERTY_TYPE',\n",
    "                           'STATE OR PROVINCE':'STATE_OR_PROVINCE'})"
   ]
  },
  {
   "cell_type": "code",
   "execution_count": 14,
   "metadata": {},
   "outputs": [],
   "source": [
    "#fill in missing data\n",
    "data['PRICE'].fillna(data['PRICE'].median(), inplace = True)\n",
    "data['BEDS'].fillna(data['BEDS'].median(), inplace = True)\n",
    "data['BATHS'].fillna(data['BATHS'].median(), inplace = True)\n",
    "data['SQUARE_FEET'].fillna(data['SQUARE_FEET'].median(), inplace = True)\n",
    "data['LOT_SIZE'].fillna(data['LOT_SIZE'].median(), inplace = True)"
   ]
  },
  {
   "cell_type": "code",
   "execution_count": 15,
   "metadata": {},
   "outputs": [],
   "source": [
    "#drop rows with missing location\n",
    "data.dropna(subset=['LOCATION'], inplace=True)\n",
    "data.dropna(subset=['YEAR_BUILT'], inplace=True)"
   ]
  },
  {
   "cell_type": "code",
   "execution_count": 16,
   "metadata": {},
   "outputs": [
    {
     "data": {
      "text/plain": [
       "ZIP OR POSTAL CODE    0\n",
       "PRICE                 0\n",
       "BEDS                  0\n",
       "BATHS                 0\n",
       "LOCATION              0\n",
       "SQUARE_FEET           0\n",
       "LOT_SIZE              0\n",
       "YEAR_BUILT            0\n",
       "FAVORITE              0\n",
       "INTERESTED            0\n",
       "LATITUDE              0\n",
       "LONGITUDE             0\n",
       "dtype: int64"
      ]
     },
     "execution_count": 16,
     "metadata": {},
     "output_type": "execute_result"
    }
   ],
   "source": [
    "data.isnull().sum()"
   ]
  },
  {
   "cell_type": "markdown",
   "metadata": {},
   "source": [
    "# Linear Regression Model"
   ]
  },
  {
   "cell_type": "code",
   "execution_count": 17,
   "metadata": {},
   "outputs": [
    {
     "data": {
      "text/html": [
       "<div>\n",
       "<style scoped>\n",
       "    .dataframe tbody tr th:only-of-type {\n",
       "        vertical-align: middle;\n",
       "    }\n",
       "\n",
       "    .dataframe tbody tr th {\n",
       "        vertical-align: top;\n",
       "    }\n",
       "\n",
       "    .dataframe thead th {\n",
       "        text-align: right;\n",
       "    }\n",
       "</style>\n",
       "<table border=\"1\" class=\"dataframe\">\n",
       "  <thead>\n",
       "    <tr style=\"text-align: right;\">\n",
       "      <th></th>\n",
       "      <th>ZIP OR POSTAL CODE</th>\n",
       "      <th>PRICE</th>\n",
       "      <th>BEDS</th>\n",
       "      <th>BATHS</th>\n",
       "      <th>LOCATION</th>\n",
       "      <th>SQUARE_FEET</th>\n",
       "      <th>LOT_SIZE</th>\n",
       "      <th>YEAR_BUILT</th>\n",
       "      <th>FAVORITE</th>\n",
       "      <th>INTERESTED</th>\n",
       "      <th>LATITUDE</th>\n",
       "      <th>LONGITUDE</th>\n",
       "    </tr>\n",
       "  </thead>\n",
       "  <tbody>\n",
       "    <tr>\n",
       "      <td>0</td>\n",
       "      <td>94109</td>\n",
       "      <td>1350000</td>\n",
       "      <td>2.0</td>\n",
       "      <td>2.0</td>\n",
       "      <td>Nob Hill</td>\n",
       "      <td>1078.0</td>\n",
       "      <td>2809.0</td>\n",
       "      <td>1910.0</td>\n",
       "      <td>N</td>\n",
       "      <td>Y</td>\n",
       "      <td>37.795592</td>\n",
       "      <td>-122.414747</td>\n",
       "    </tr>\n",
       "  </tbody>\n",
       "</table>\n",
       "</div>"
      ],
      "text/plain": [
       "   ZIP OR POSTAL CODE    PRICE  BEDS  BATHS  LOCATION  SQUARE_FEET  LOT_SIZE  \\\n",
       "0               94109  1350000   2.0    2.0  Nob Hill       1078.0    2809.0   \n",
       "\n",
       "   YEAR_BUILT FAVORITE INTERESTED   LATITUDE   LONGITUDE  \n",
       "0      1910.0        N          Y  37.795592 -122.414747  "
      ]
     },
     "execution_count": 17,
     "metadata": {},
     "output_type": "execute_result"
    }
   ],
   "source": [
    "data.head(1)"
   ]
  },
  {
   "cell_type": "code",
   "execution_count": 18,
   "metadata": {},
   "outputs": [],
   "source": [
    "feature_data = data.drop(['PRICE','LOCATION','FAVORITE','INTERESTED'],axis=1)\n",
    "target_data = data['PRICE']\n",
    "X_train,X_test,y_train, y_test = train_test_split(feature_data, target_data, test_size=0.3)"
   ]
  },
  {
   "cell_type": "code",
   "execution_count": 19,
   "metadata": {},
   "outputs": [
    {
     "data": {
      "text/html": [
       "<div>\n",
       "<style scoped>\n",
       "    .dataframe tbody tr th:only-of-type {\n",
       "        vertical-align: middle;\n",
       "    }\n",
       "\n",
       "    .dataframe tbody tr th {\n",
       "        vertical-align: top;\n",
       "    }\n",
       "\n",
       "    .dataframe thead th {\n",
       "        text-align: right;\n",
       "    }\n",
       "</style>\n",
       "<table border=\"1\" class=\"dataframe\">\n",
       "  <thead>\n",
       "    <tr style=\"text-align: right;\">\n",
       "      <th></th>\n",
       "      <th>ZIP OR POSTAL CODE</th>\n",
       "      <th>BEDS</th>\n",
       "      <th>BATHS</th>\n",
       "      <th>SQUARE_FEET</th>\n",
       "      <th>LOT_SIZE</th>\n",
       "      <th>YEAR_BUILT</th>\n",
       "      <th>LATITUDE</th>\n",
       "      <th>LONGITUDE</th>\n",
       "    </tr>\n",
       "  </thead>\n",
       "  <tbody>\n",
       "    <tr>\n",
       "      <td>0</td>\n",
       "      <td>94109</td>\n",
       "      <td>2.0</td>\n",
       "      <td>2.0</td>\n",
       "      <td>1078.0</td>\n",
       "      <td>2809.0</td>\n",
       "      <td>1910.0</td>\n",
       "      <td>37.795592</td>\n",
       "      <td>-122.414747</td>\n",
       "    </tr>\n",
       "    <tr>\n",
       "      <td>1</td>\n",
       "      <td>94107</td>\n",
       "      <td>2.0</td>\n",
       "      <td>2.0</td>\n",
       "      <td>1112.0</td>\n",
       "      <td>2809.0</td>\n",
       "      <td>2007.0</td>\n",
       "      <td>37.782053</td>\n",
       "      <td>-122.392835</td>\n",
       "    </tr>\n",
       "    <tr>\n",
       "      <td>2</td>\n",
       "      <td>94112</td>\n",
       "      <td>2.0</td>\n",
       "      <td>1.0</td>\n",
       "      <td>1624.5</td>\n",
       "      <td>1873.0</td>\n",
       "      <td>1927.0</td>\n",
       "      <td>37.720212</td>\n",
       "      <td>-122.460457</td>\n",
       "    </tr>\n",
       "    <tr>\n",
       "      <td>3</td>\n",
       "      <td>94103</td>\n",
       "      <td>2.0</td>\n",
       "      <td>2.5</td>\n",
       "      <td>1266.0</td>\n",
       "      <td>2809.0</td>\n",
       "      <td>2009.0</td>\n",
       "      <td>37.776800</td>\n",
       "      <td>-122.409261</td>\n",
       "    </tr>\n",
       "    <tr>\n",
       "      <td>4</td>\n",
       "      <td>94108</td>\n",
       "      <td>2.0</td>\n",
       "      <td>2.0</td>\n",
       "      <td>1519.0</td>\n",
       "      <td>2809.0</td>\n",
       "      <td>1955.0</td>\n",
       "      <td>37.792690</td>\n",
       "      <td>-122.412505</td>\n",
       "    </tr>\n",
       "    <tr>\n",
       "      <td>...</td>\n",
       "      <td>...</td>\n",
       "      <td>...</td>\n",
       "      <td>...</td>\n",
       "      <td>...</td>\n",
       "      <td>...</td>\n",
       "      <td>...</td>\n",
       "      <td>...</td>\n",
       "      <td>...</td>\n",
       "    </tr>\n",
       "    <tr>\n",
       "      <td>343</td>\n",
       "      <td>94123</td>\n",
       "      <td>4.0</td>\n",
       "      <td>2.0</td>\n",
       "      <td>3900.0</td>\n",
       "      <td>3598.0</td>\n",
       "      <td>1922.0</td>\n",
       "      <td>37.795123</td>\n",
       "      <td>-122.437982</td>\n",
       "    </tr>\n",
       "    <tr>\n",
       "      <td>344</td>\n",
       "      <td>94112</td>\n",
       "      <td>3.0</td>\n",
       "      <td>3.0</td>\n",
       "      <td>1624.5</td>\n",
       "      <td>1875.0</td>\n",
       "      <td>1905.0</td>\n",
       "      <td>37.727162</td>\n",
       "      <td>-122.426231</td>\n",
       "    </tr>\n",
       "    <tr>\n",
       "      <td>345</td>\n",
       "      <td>94103</td>\n",
       "      <td>3.0</td>\n",
       "      <td>2.0</td>\n",
       "      <td>1313.0</td>\n",
       "      <td>2809.0</td>\n",
       "      <td>2015.0</td>\n",
       "      <td>37.768605</td>\n",
       "      <td>-122.426534</td>\n",
       "    </tr>\n",
       "    <tr>\n",
       "      <td>347</td>\n",
       "      <td>94109</td>\n",
       "      <td>2.0</td>\n",
       "      <td>2.0</td>\n",
       "      <td>824.0</td>\n",
       "      <td>2809.0</td>\n",
       "      <td>2012.0</td>\n",
       "      <td>37.793212</td>\n",
       "      <td>-122.423746</td>\n",
       "    </tr>\n",
       "    <tr>\n",
       "      <td>348</td>\n",
       "      <td>94107</td>\n",
       "      <td>1.0</td>\n",
       "      <td>1.5</td>\n",
       "      <td>835.0</td>\n",
       "      <td>2809.0</td>\n",
       "      <td>2009.0</td>\n",
       "      <td>37.759672</td>\n",
       "      <td>-122.390863</td>\n",
       "    </tr>\n",
       "  </tbody>\n",
       "</table>\n",
       "<p>326 rows × 8 columns</p>\n",
       "</div>"
      ],
      "text/plain": [
       "     ZIP OR POSTAL CODE  BEDS  BATHS  SQUARE_FEET  LOT_SIZE  YEAR_BUILT  \\\n",
       "0                 94109   2.0    2.0       1078.0    2809.0      1910.0   \n",
       "1                 94107   2.0    2.0       1112.0    2809.0      2007.0   \n",
       "2                 94112   2.0    1.0       1624.5    1873.0      1927.0   \n",
       "3                 94103   2.0    2.5       1266.0    2809.0      2009.0   \n",
       "4                 94108   2.0    2.0       1519.0    2809.0      1955.0   \n",
       "..                  ...   ...    ...          ...       ...         ...   \n",
       "343               94123   4.0    2.0       3900.0    3598.0      1922.0   \n",
       "344               94112   3.0    3.0       1624.5    1875.0      1905.0   \n",
       "345               94103   3.0    2.0       1313.0    2809.0      2015.0   \n",
       "347               94109   2.0    2.0        824.0    2809.0      2012.0   \n",
       "348               94107   1.0    1.5        835.0    2809.0      2009.0   \n",
       "\n",
       "      LATITUDE   LONGITUDE  \n",
       "0    37.795592 -122.414747  \n",
       "1    37.782053 -122.392835  \n",
       "2    37.720212 -122.460457  \n",
       "3    37.776800 -122.409261  \n",
       "4    37.792690 -122.412505  \n",
       "..         ...         ...  \n",
       "343  37.795123 -122.437982  \n",
       "344  37.727162 -122.426231  \n",
       "345  37.768605 -122.426534  \n",
       "347  37.793212 -122.423746  \n",
       "348  37.759672 -122.390863  \n",
       "\n",
       "[326 rows x 8 columns]"
      ]
     },
     "execution_count": 19,
     "metadata": {},
     "output_type": "execute_result"
    }
   ],
   "source": [
    "feature_data"
   ]
  },
  {
   "cell_type": "code",
   "execution_count": 20,
   "metadata": {},
   "outputs": [
    {
     "data": {
      "text/html": [
       "<table class=\"simpletable\">\n",
       "<caption>OLS Regression Results</caption>\n",
       "<tr>\n",
       "  <th>Dep. Variable:</th>          <td>PRICE</td>      <th>  R-squared:         </th> <td>   0.606</td>\n",
       "</tr>\n",
       "<tr>\n",
       "  <th>Model:</th>                   <td>OLS</td>       <th>  Adj. R-squared:    </th> <td>   0.593</td>\n",
       "</tr>\n",
       "<tr>\n",
       "  <th>Method:</th>             <td>Least Squares</td>  <th>  F-statistic:       </th> <td>   48.29</td>\n",
       "</tr>\n",
       "<tr>\n",
       "  <th>Date:</th>             <td>Sun, 12 Apr 2020</td> <th>  Prob (F-statistic):</th> <td>3.93e-41</td>\n",
       "</tr>\n",
       "<tr>\n",
       "  <th>Time:</th>                 <td>16:44:54</td>     <th>  Log-Likelihood:    </th> <td> -3432.6</td>\n",
       "</tr>\n",
       "<tr>\n",
       "  <th>No. Observations:</th>      <td>   228</td>      <th>  AIC:               </th> <td>   6881.</td>\n",
       "</tr>\n",
       "<tr>\n",
       "  <th>Df Residuals:</th>          <td>   220</td>      <th>  BIC:               </th> <td>   6909.</td>\n",
       "</tr>\n",
       "<tr>\n",
       "  <th>Df Model:</th>              <td>     7</td>      <th>                     </th>     <td> </td>   \n",
       "</tr>\n",
       "<tr>\n",
       "  <th>Covariance Type:</th>      <td>nonrobust</td>    <th>                     </th>     <td> </td>   \n",
       "</tr>\n",
       "</table>\n",
       "<table class=\"simpletable\">\n",
       "<tr>\n",
       "       <td></td>          <th>coef</th>     <th>std err</th>      <th>t</th>      <th>P>|t|</th>  <th>[0.025</th>    <th>0.975]</th>  \n",
       "</tr>\n",
       "<tr>\n",
       "  <th>Intercept</th>   <td>-3.712e+08</td> <td> 2.75e+08</td> <td>   -1.351</td> <td> 0.178</td> <td>-9.12e+08</td> <td>  1.7e+08</td>\n",
       "</tr>\n",
       "<tr>\n",
       "  <th>BEDS</th>        <td>  9.71e+04</td> <td> 3.61e+04</td> <td>    2.688</td> <td> 0.008</td> <td> 2.59e+04</td> <td> 1.68e+05</td>\n",
       "</tr>\n",
       "<tr>\n",
       "  <th>BATHS</th>       <td> 5.472e+05</td> <td>  6.4e+04</td> <td>    8.550</td> <td> 0.000</td> <td> 4.21e+05</td> <td> 6.73e+05</td>\n",
       "</tr>\n",
       "<tr>\n",
       "  <th>LATITUDE</th>    <td>  1.58e+07</td> <td> 2.37e+06</td> <td>    6.670</td> <td> 0.000</td> <td> 1.11e+07</td> <td> 2.05e+07</td>\n",
       "</tr>\n",
       "<tr>\n",
       "  <th>LONGITUDE</th>   <td> 1.832e+06</td> <td> 2.09e+06</td> <td>    0.877</td> <td> 0.381</td> <td>-2.28e+06</td> <td> 5.95e+06</td>\n",
       "</tr>\n",
       "<tr>\n",
       "  <th>SQUARE_FEET</th> <td>  214.1292</td> <td>   46.631</td> <td>    4.592</td> <td> 0.000</td> <td>  122.228</td> <td>  306.030</td>\n",
       "</tr>\n",
       "<tr>\n",
       "  <th>LOT_SIZE</th>    <td>   70.5250</td> <td>   61.136</td> <td>    1.154</td> <td> 0.250</td> <td>  -49.963</td> <td>  191.013</td>\n",
       "</tr>\n",
       "<tr>\n",
       "  <th>YEAR_BUILT</th>  <td> -752.2911</td> <td> 1591.259</td> <td>   -0.473</td> <td> 0.637</td> <td>-3888.353</td> <td> 2383.770</td>\n",
       "</tr>\n",
       "</table>\n",
       "<table class=\"simpletable\">\n",
       "<tr>\n",
       "  <th>Omnibus:</th>       <td>34.771</td> <th>  Durbin-Watson:     </th> <td>   1.880</td>\n",
       "</tr>\n",
       "<tr>\n",
       "  <th>Prob(Omnibus):</th> <td> 0.000</td> <th>  Jarque-Bera (JB):  </th> <td> 102.903</td>\n",
       "</tr>\n",
       "<tr>\n",
       "  <th>Skew:</th>          <td> 0.616</td> <th>  Prob(JB):          </th> <td>4.52e-23</td>\n",
       "</tr>\n",
       "<tr>\n",
       "  <th>Kurtosis:</th>      <td> 6.052</td> <th>  Cond. No.          </th> <td>2.08e+07</td>\n",
       "</tr>\n",
       "</table><br/><br/>Warnings:<br/>[1] Standard Errors assume that the covariance matrix of the errors is correctly specified.<br/>[2] The condition number is large, 2.08e+07. This might indicate that there are<br/>strong multicollinearity or other numerical problems."
      ],
      "text/plain": [
       "<class 'statsmodels.iolib.summary.Summary'>\n",
       "\"\"\"\n",
       "                            OLS Regression Results                            \n",
       "==============================================================================\n",
       "Dep. Variable:                  PRICE   R-squared:                       0.606\n",
       "Model:                            OLS   Adj. R-squared:                  0.593\n",
       "Method:                 Least Squares   F-statistic:                     48.29\n",
       "Date:                Sun, 12 Apr 2020   Prob (F-statistic):           3.93e-41\n",
       "Time:                        16:44:54   Log-Likelihood:                -3432.6\n",
       "No. Observations:                 228   AIC:                             6881.\n",
       "Df Residuals:                     220   BIC:                             6909.\n",
       "Df Model:                           7                                         \n",
       "Covariance Type:            nonrobust                                         \n",
       "===============================================================================\n",
       "                  coef    std err          t      P>|t|      [0.025      0.975]\n",
       "-------------------------------------------------------------------------------\n",
       "Intercept   -3.712e+08   2.75e+08     -1.351      0.178   -9.12e+08     1.7e+08\n",
       "BEDS          9.71e+04   3.61e+04      2.688      0.008    2.59e+04    1.68e+05\n",
       "BATHS        5.472e+05    6.4e+04      8.550      0.000    4.21e+05    6.73e+05\n",
       "LATITUDE      1.58e+07   2.37e+06      6.670      0.000    1.11e+07    2.05e+07\n",
       "LONGITUDE    1.832e+06   2.09e+06      0.877      0.381   -2.28e+06    5.95e+06\n",
       "SQUARE_FEET   214.1292     46.631      4.592      0.000     122.228     306.030\n",
       "LOT_SIZE       70.5250     61.136      1.154      0.250     -49.963     191.013\n",
       "YEAR_BUILT   -752.2911   1591.259     -0.473      0.637   -3888.353    2383.770\n",
       "==============================================================================\n",
       "Omnibus:                       34.771   Durbin-Watson:                   1.880\n",
       "Prob(Omnibus):                  0.000   Jarque-Bera (JB):              102.903\n",
       "Skew:                           0.616   Prob(JB):                     4.52e-23\n",
       "Kurtosis:                       6.052   Cond. No.                     2.08e+07\n",
       "==============================================================================\n",
       "\n",
       "Warnings:\n",
       "[1] Standard Errors assume that the covariance matrix of the errors is correctly specified.\n",
       "[2] The condition number is large, 2.08e+07. This might indicate that there are\n",
       "strong multicollinearity or other numerical problems.\n",
       "\"\"\""
      ]
     },
     "execution_count": 20,
     "metadata": {},
     "output_type": "execute_result"
    }
   ],
   "source": [
    "df_train = pd.concat([X_train,y_train],axis=1)\n",
    "linear_regression = smf.ols(formula='PRICE ~ + BEDS + BATHS + LATITUDE + LONGITUDE + SQUARE_FEET + LOT_SIZE+ YEAR_BUILT', data=df_train)\n",
    "fitted_model = linear_regression.fit()\n",
    "fitted_model.summary()"
   ]
  },
  {
   "cell_type": "markdown",
   "metadata": {},
   "source": [
    "# Lasso, Ridge"
   ]
  },
  {
   "cell_type": "markdown",
   "metadata": {},
   "source": [
    "### Ridge"
   ]
  },
  {
   "cell_type": "code",
   "execution_count": 21,
   "metadata": {},
   "outputs": [],
   "source": [
    "ridge = Ridge()"
   ]
  },
  {
   "cell_type": "code",
   "execution_count": 22,
   "metadata": {},
   "outputs": [],
   "source": [
    "parameters = {'alpha' : [1e-15, 1e-6, 1e-5, 1e-4, 1e-3, 1e-2, .5e-1, 1, 5, 20]}"
   ]
  },
  {
   "cell_type": "code",
   "execution_count": 23,
   "metadata": {},
   "outputs": [],
   "source": [
    "from sklearn.model_selection import GridSearchCV\n",
    "ridge_regressor = GridSearchCV(ridge, parameters, scoring='neg_mean_squared_error',cv=5)"
   ]
  },
  {
   "cell_type": "code",
   "execution_count": 24,
   "metadata": {},
   "outputs": [
    {
     "name": "stderr",
     "output_type": "stream",
     "text": [
      "/opt/anaconda3/lib/python3.7/site-packages/sklearn/model_selection/_search.py:814: DeprecationWarning: The default of the `iid` parameter will change from True to False in version 0.22 and will be removed in 0.24. This will change numeric results when test-set sizes are unequal.\n",
      "  DeprecationWarning)\n"
     ]
    },
    {
     "data": {
      "text/plain": [
       "GridSearchCV(cv=5, error_score='raise-deprecating',\n",
       "             estimator=Ridge(alpha=1.0, copy_X=True, fit_intercept=True,\n",
       "                             max_iter=None, normalize=False, random_state=None,\n",
       "                             solver='auto', tol=0.001),\n",
       "             iid='warn', n_jobs=None,\n",
       "             param_grid={'alpha': [1e-15, 1e-06, 1e-05, 0.0001, 0.001, 0.01,\n",
       "                                   0.05, 1, 5, 20]},\n",
       "             pre_dispatch='2*n_jobs', refit=True, return_train_score=False,\n",
       "             scoring='neg_mean_squared_error', verbose=0)"
      ]
     },
     "execution_count": 24,
     "metadata": {},
     "output_type": "execute_result"
    }
   ],
   "source": [
    "ridge_regressor.fit(X_train,y_train)"
   ]
  },
  {
   "cell_type": "code",
   "execution_count": 25,
   "metadata": {},
   "outputs": [
    {
     "data": {
      "text/plain": [
       "Ridge(alpha=0.01, copy_X=True, fit_intercept=True, max_iter=None,\n",
       "      normalize=False, random_state=None, solver='auto', tol=0.001)"
      ]
     },
     "execution_count": 25,
     "metadata": {},
     "output_type": "execute_result"
    }
   ],
   "source": [
    "rr = Ridge(alpha=0.01) #  comparison with alpha value\n",
    "rr.fit(X_train, y_train)"
   ]
  },
  {
   "cell_type": "code",
   "execution_count": 26,
   "metadata": {},
   "outputs": [],
   "source": [
    "Ridge_train_score = rr.score(X_train,y_train)\n",
    "Ridge_test_score = rr.score(X_test, y_test)"
   ]
  },
  {
   "cell_type": "code",
   "execution_count": 27,
   "metadata": {},
   "outputs": [
    {
     "name": "stdout",
     "output_type": "stream",
     "text": [
      "Ridge Train Score:  0.6076210885123957\n",
      "Ridge Test Score:  -1238561.0352892394\n"
     ]
    }
   ],
   "source": [
    "print ('Ridge Train Score: ',Ridge_train_score)\n",
    "print ('Ridge Test Score: ',Ridge_test_score)"
   ]
  },
  {
   "cell_type": "code",
   "execution_count": 28,
   "metadata": {},
   "outputs": [
    {
     "name": "stdout",
     "output_type": "stream",
     "text": [
      "Ridge Train Score:  0.6080453654278948\n",
      "Ridge Test Score:  -1279799.5210623185\n"
     ]
    }
   ],
   "source": [
    "rr0001 = Ridge(alpha=0.001) #  comparison with alpha value\n",
    "rr0001.fit(X_train, y_train)\n",
    "Ridge_train_score0001 = rr0001.score(X_train,y_train)\n",
    "Ridge_test_score0001 = rr0001.score(X_test, y_test)\n",
    "print ('Ridge Train Score: ',Ridge_train_score0001)\n",
    "print ('Ridge Test Score: ',Ridge_test_score0001)"
   ]
  },
  {
   "cell_type": "markdown",
   "metadata": {},
   "source": [
    "### Lasso"
   ]
  },
  {
   "cell_type": "code",
   "execution_count": 29,
   "metadata": {},
   "outputs": [
    {
     "data": {
      "text/plain": [
       "Lasso(alpha=1.0, copy_X=True, fit_intercept=True, max_iter=1000,\n",
       "      normalize=False, positive=False, precompute=False, random_state=None,\n",
       "      selection='cyclic', tol=0.0001, warm_start=False)"
      ]
     },
     "execution_count": 29,
     "metadata": {},
     "output_type": "execute_result"
    }
   ],
   "source": [
    "# when alpha = 1.0\n",
    "lasso = Lasso()\n",
    "lasso.fit(X_train,y_train)\n"
   ]
  },
  {
   "cell_type": "code",
   "execution_count": 30,
   "metadata": {},
   "outputs": [],
   "source": [
    "train_score=lasso.score(X_train,y_train)\n",
    "test_score=lasso.score(X_test,y_test)\n",
    "coeff_used = np.sum(lasso.coef_!=0)"
   ]
  },
  {
   "cell_type": "code",
   "execution_count": 31,
   "metadata": {},
   "outputs": [
    {
     "name": "stdout",
     "output_type": "stream",
     "text": [
      "training score: 0.6080502699421211\n",
      "test score:  -1284468.4728869728\n",
      "number of features used:  8\n"
     ]
    }
   ],
   "source": [
    "print (\"training score:\", train_score)\n",
    "print (\"test score: \", test_score)\n",
    "print (\"number of features used: \", coeff_used)"
   ]
  },
  {
   "cell_type": "code",
   "execution_count": 32,
   "metadata": {},
   "outputs": [],
   "source": [
    "# alpha = 0.01\n",
    "lasso001 = Lasso(alpha=0.01, max_iter=10e5)\n",
    "lasso001.fit(feature_data,target_data)\n",
    "test_score=lasso.score(feature_data,target_data)"
   ]
  },
  {
   "cell_type": "code",
   "execution_count": 33,
   "metadata": {},
   "outputs": [],
   "source": [
    "train_score001=lasso001.score(X_train,y_train)\n",
    "test_score001=lasso001.score(X_test,y_test)\n",
    "coeff_used001 = np.sum(lasso001.coef_!=0)"
   ]
  },
  {
   "cell_type": "code",
   "execution_count": 34,
   "metadata": {},
   "outputs": [
    {
     "name": "stdout",
     "output_type": "stream",
     "text": [
      "training score for alpha=0.01: 0.6015424828949638\n",
      "test score for alpha =0.01:  0.6501415318603749\n",
      "number of features used: for alpha =0.01: 8\n"
     ]
    }
   ],
   "source": [
    "print (\"training score for alpha=0.01:\", train_score001)\n",
    "print (\"test score for alpha =0.01: \", test_score001)\n",
    "print (\"number of features used: for alpha =0.01:\", coeff_used001)"
   ]
  },
  {
   "cell_type": "code",
   "execution_count": 35,
   "metadata": {},
   "outputs": [
    {
     "name": "stdout",
     "output_type": "stream",
     "text": [
      "training score for alpha=0.0001: 0.6080502716810401\n",
      "test score for alpha =0.0001:  -1284724.534282523\n",
      "number of features used: for alpha =0.0001: 8\n"
     ]
    }
   ],
   "source": [
    "#alpha = 0.0001\n",
    "# best score\n",
    "lasso00001 = Lasso(alpha=0.0001, max_iter=10e5)\n",
    "lasso00001.fit(X_train,y_train)\n",
    "train_score00001=lasso00001.score(X_train,y_train)\n",
    "test_score00001=lasso00001.score(X_test,y_test)\n",
    "coeff_used00001 = np.sum(lasso00001.coef_!=0)\n",
    "print (\"training score for alpha=0.0001:\", train_score00001)\n",
    "print (\"test score for alpha =0.0001: \", test_score00001)\n",
    "print (\"number of features used: for alpha =0.0001:\", coeff_used00001)"
   ]
  },
  {
   "cell_type": "code",
   "execution_count": 36,
   "metadata": {},
   "outputs": [
    {
     "name": "stdout",
     "output_type": "stream",
     "text": [
      "LR training score: 0.6080502716810332\n",
      "LR test score:  -1284724.559896395\n"
     ]
    }
   ],
   "source": [
    "lr = LinearRegression()\n",
    "lr.fit(X_train,y_train)\n",
    "lr_train_score=lr.score(X_train,y_train)\n",
    "lr_test_score=lr.score(X_test,y_test)\n",
    "print (\"LR training score:\", lr_train_score)\n",
    "print (\"LR test score: \", lr_test_score)"
   ]
  },
  {
   "cell_type": "code",
   "execution_count": null,
   "metadata": {},
   "outputs": [],
   "source": []
  },
  {
   "cell_type": "code",
   "execution_count": null,
   "metadata": {},
   "outputs": [],
   "source": []
  },
  {
   "cell_type": "code",
   "execution_count": null,
   "metadata": {},
   "outputs": [],
   "source": []
  },
  {
   "cell_type": "code",
   "execution_count": null,
   "metadata": {},
   "outputs": [],
   "source": []
  },
  {
   "cell_type": "code",
   "execution_count": 37,
   "metadata": {},
   "outputs": [
    {
     "data": {
      "text/plain": [
       "[<matplotlib.lines.Line2D at 0x1c1b37bad0>]"
      ]
     },
     "execution_count": 37,
     "metadata": {},
     "output_type": "execute_result"
    },
    {
     "data": {
      "image/png": "[encoded data removed]",
      "text/plain": [
       "<Figure size 432x288 with 1 Axes>"
      ]
     },
     "metadata": {
      "needs_background": "light"
     },
     "output_type": "display_data"
    }
   ],
   "source": [
    "#Define input array with angles from 60deg to 300deg converted to radians\n",
    "x = np.array([i*np.pi/180 for i in range(60,300,4)])\n",
    "np.random.seed(10)  #Setting seed for reproducability\n",
    "y = np.sin(x) + np.random.normal(0,0.15,len(x))\n",
    "data = pd.DataFrame(np.column_stack([x,y]),columns=['PRICE','SQUARE_FEET'])\n",
    "plt.plot(data['PRICE'],data['SQUARE_FEET'],'.')"
   ]
  },
  {
   "cell_type": "code",
   "execution_count": 38,
   "metadata": {},
   "outputs": [
    {
     "data": {
      "text/html": [
       "<div>\n",
       "<style scoped>\n",
       "    .dataframe tbody tr th:only-of-type {\n",
       "        vertical-align: middle;\n",
       "    }\n",
       "\n",
       "    .dataframe tbody tr th {\n",
       "        vertical-align: top;\n",
       "    }\n",
       "\n",
       "    .dataframe thead th {\n",
       "        text-align: right;\n",
       "    }\n",
       "</style>\n",
       "<table border=\"1\" class=\"dataframe\">\n",
       "  <thead>\n",
       "    <tr style=\"text-align: right;\">\n",
       "      <th></th>\n",
       "      <th>PRICE</th>\n",
       "      <th>SQUARE_FEET</th>\n",
       "      <th>PRICE_2</th>\n",
       "      <th>PRICE_3</th>\n",
       "      <th>PRICE_4</th>\n",
       "      <th>PRICE_5</th>\n",
       "      <th>PRICE_6</th>\n",
       "      <th>PRICE_7</th>\n",
       "      <th>PRICE_8</th>\n",
       "      <th>PRICE_9</th>\n",
       "      <th>PRICE_10</th>\n",
       "      <th>PRICE_11</th>\n",
       "      <th>PRICE_12</th>\n",
       "      <th>PRICE_13</th>\n",
       "      <th>PRICE_14</th>\n",
       "      <th>PRICE_15</th>\n",
       "    </tr>\n",
       "  </thead>\n",
       "  <tbody>\n",
       "    <tr>\n",
       "      <td>0</td>\n",
       "      <td>1.047198</td>\n",
       "      <td>1.065763</td>\n",
       "      <td>1.096623</td>\n",
       "      <td>1.148381</td>\n",
       "      <td>1.202581</td>\n",
       "      <td>1.259340</td>\n",
       "      <td>1.318778</td>\n",
       "      <td>1.381021</td>\n",
       "      <td>1.446202</td>\n",
       "      <td>1.514459</td>\n",
       "      <td>1.585938</td>\n",
       "      <td>1.660790</td>\n",
       "      <td>1.739176</td>\n",
       "      <td>1.821260</td>\n",
       "      <td>1.907219</td>\n",
       "      <td>1.997235</td>\n",
       "    </tr>\n",
       "    <tr>\n",
       "      <td>1</td>\n",
       "      <td>1.117011</td>\n",
       "      <td>1.006086</td>\n",
       "      <td>1.247713</td>\n",
       "      <td>1.393709</td>\n",
       "      <td>1.556788</td>\n",
       "      <td>1.738948</td>\n",
       "      <td>1.942424</td>\n",
       "      <td>2.169709</td>\n",
       "      <td>2.423588</td>\n",
       "      <td>2.707173</td>\n",
       "      <td>3.023942</td>\n",
       "      <td>3.377775</td>\n",
       "      <td>3.773011</td>\n",
       "      <td>4.214494</td>\n",
       "      <td>4.707635</td>\n",
       "      <td>5.258479</td>\n",
       "    </tr>\n",
       "    <tr>\n",
       "      <td>2</td>\n",
       "      <td>1.186824</td>\n",
       "      <td>0.695374</td>\n",
       "      <td>1.408551</td>\n",
       "      <td>1.671702</td>\n",
       "      <td>1.984016</td>\n",
       "      <td>2.354677</td>\n",
       "      <td>2.794587</td>\n",
       "      <td>3.316683</td>\n",
       "      <td>3.936319</td>\n",
       "      <td>4.671717</td>\n",
       "      <td>5.544505</td>\n",
       "      <td>6.580351</td>\n",
       "      <td>7.809718</td>\n",
       "      <td>9.268760</td>\n",
       "      <td>11.000386</td>\n",
       "      <td>13.055521</td>\n",
       "    </tr>\n",
       "  </tbody>\n",
       "</table>\n",
       "</div>"
      ],
      "text/plain": [
       "      PRICE  SQUARE_FEET   PRICE_2   PRICE_3   PRICE_4   PRICE_5   PRICE_6  \\\n",
       "0  1.047198     1.065763  1.096623  1.148381  1.202581  1.259340  1.318778   \n",
       "1  1.117011     1.006086  1.247713  1.393709  1.556788  1.738948  1.942424   \n",
       "2  1.186824     0.695374  1.408551  1.671702  1.984016  2.354677  2.794587   \n",
       "\n",
       "    PRICE_7   PRICE_8   PRICE_9  PRICE_10  PRICE_11  PRICE_12  PRICE_13  \\\n",
       "0  1.381021  1.446202  1.514459  1.585938  1.660790  1.739176  1.821260   \n",
       "1  2.169709  2.423588  2.707173  3.023942  3.377775  3.773011  4.214494   \n",
       "2  3.316683  3.936319  4.671717  5.544505  6.580351  7.809718  9.268760   \n",
       "\n",
       "    PRICE_14   PRICE_15  \n",
       "0   1.907219   1.997235  \n",
       "1   4.707635   5.258479  \n",
       "2  11.000386  13.055521  "
      ]
     },
     "execution_count": 38,
     "metadata": {},
     "output_type": "execute_result"
    }
   ],
   "source": [
    "for i in range(2,16):  #power of 1 is already there\n",
    "    colname = 'PRICE_%d'%i      #new var will be x_power\n",
    "    data[colname] = data['PRICE']**i\n",
    "data.head(3)"
   ]
  },
  {
   "cell_type": "markdown",
   "metadata": {},
   "source": [
    "### Price and Square Feet"
   ]
  },
  {
   "cell_type": "code",
   "execution_count": 39,
   "metadata": {},
   "outputs": [],
   "source": [
    "#Import Linear Regression model from scikit-learn.\n",
    "# Price vs. Square_feet\n",
    "def linear_regression(data, power, models_to_plot):\n",
    "    #initialize predictors:\n",
    "    predictors=['PRICE']\n",
    "    if power>=2:\n",
    "        predictors.extend(['PRICE_%d'%i for i in range(2,power+1)])\n",
    "    \n",
    "    #Fit the model\n",
    "    linreg = LinearRegression(normalize=True)\n",
    "    linreg.fit(data[predictors],data['SQUARE_FEET'])\n",
    "    y_pred = linreg.predict(data[predictors])\n",
    "    \n",
    "    #Check if a plot is to be made for the entered power\n",
    "    if power in models_to_plot:\n",
    "        plt.subplot(models_to_plot[power])\n",
    "        plt.tight_layout()\n",
    "        plt.plot(data['PRICE'],y_pred)\n",
    "        plt.plot(data['PRICE'],data['SQUARE_FEET'],'.')\n",
    "        plt.title('Plot for power: %d'%power)\n",
    "    \n",
    "    #Return the result in pre-defined format\n",
    "    rss = sum((y_pred-data['SQUARE_FEET'])**2)\n",
    "    ret = [rss]\n",
    "    ret.extend([linreg.intercept_])\n",
    "    ret.extend(linreg.coef_)\n",
    "    return ret"
   ]
  },
  {
   "cell_type": "code",
   "execution_count": 40,
   "metadata": {},
   "outputs": [],
   "source": [
    "#Initialize a dataframe to store the results:\n",
    "col = ['rss','intercept'] + ['PRICE_%d'%i for i in range(1,16)]\n",
    "ind = ['PRICE_%d'%i for i in range(1,16)]\n",
    "coef_matrix_simple = pd.DataFrame(index=ind, columns=col)\n"
   ]
  },
  {
   "cell_type": "code",
   "execution_count": 41,
   "metadata": {},
   "outputs": [],
   "source": [
    "#Define the powers for which a plot is required:\n",
    "models_to_plot = {1:231,3:232,6:233,9:234,12:235,15:236}\n"
   ]
  },
  {
   "cell_type": "code",
   "execution_count": 42,
   "metadata": {},
   "outputs": [
    {
     "data": {
      "image/png": "[encoded data removed]",
      "text/plain": [
       "<Figure size 864x720 with 6 Axes>"
      ]
     },
     "metadata": {
      "needs_background": "light"
     },
     "output_type": "display_data"
    }
   ],
   "source": [
    "#Iterate through all powers and assimilate results\n",
    "rcParams['figure.figsize'] = 12, 10\n",
    "for i in range(1,16):\n",
    "    coef_matrix_simple.iloc[i-1,0:i+2] = linear_regression(data, power=i, models_to_plot=models_to_plot)"
   ]
  },
  {
   "cell_type": "code",
   "execution_count": 43,
   "metadata": {},
   "outputs": [
    {
     "data": {
      "text/html": [
       "<div>\n",
       "<style scoped>\n",
       "    .dataframe tbody tr th:only-of-type {\n",
       "        vertical-align: middle;\n",
       "    }\n",
       "\n",
       "    .dataframe tbody tr th {\n",
       "        vertical-align: top;\n",
       "    }\n",
       "\n",
       "    .dataframe thead th {\n",
       "        text-align: right;\n",
       "    }\n",
       "</style>\n",
       "<table border=\"1\" class=\"dataframe\">\n",
       "  <thead>\n",
       "    <tr style=\"text-align: right;\">\n",
       "      <th></th>\n",
       "      <th>rss</th>\n",
       "      <th>intercept</th>\n",
       "      <th>PRICE_1</th>\n",
       "      <th>PRICE_2</th>\n",
       "      <th>PRICE_3</th>\n",
       "      <th>PRICE_4</th>\n",
       "      <th>PRICE_5</th>\n",
       "      <th>PRICE_6</th>\n",
       "      <th>PRICE_7</th>\n",
       "      <th>PRICE_8</th>\n",
       "      <th>PRICE_9</th>\n",
       "      <th>PRICE_10</th>\n",
       "      <th>PRICE_11</th>\n",
       "      <th>PRICE_12</th>\n",
       "      <th>PRICE_13</th>\n",
       "      <th>PRICE_14</th>\n",
       "      <th>PRICE_15</th>\n",
       "    </tr>\n",
       "  </thead>\n",
       "  <tbody>\n",
       "    <tr>\n",
       "      <td>PRICE_1</td>\n",
       "      <td>3.3</td>\n",
       "      <td>2</td>\n",
       "      <td>-0.62</td>\n",
       "      <td>NaN</td>\n",
       "      <td>NaN</td>\n",
       "      <td>NaN</td>\n",
       "      <td>NaN</td>\n",
       "      <td>NaN</td>\n",
       "      <td>NaN</td>\n",
       "      <td>NaN</td>\n",
       "      <td>NaN</td>\n",
       "      <td>NaN</td>\n",
       "      <td>NaN</td>\n",
       "      <td>NaN</td>\n",
       "      <td>NaN</td>\n",
       "      <td>NaN</td>\n",
       "      <td>NaN</td>\n",
       "    </tr>\n",
       "    <tr>\n",
       "      <td>PRICE_2</td>\n",
       "      <td>3.3</td>\n",
       "      <td>1.9</td>\n",
       "      <td>-0.58</td>\n",
       "      <td>-0.006</td>\n",
       "      <td>NaN</td>\n",
       "      <td>NaN</td>\n",
       "      <td>NaN</td>\n",
       "      <td>NaN</td>\n",
       "      <td>NaN</td>\n",
       "      <td>NaN</td>\n",
       "      <td>NaN</td>\n",
       "      <td>NaN</td>\n",
       "      <td>NaN</td>\n",
       "      <td>NaN</td>\n",
       "      <td>NaN</td>\n",
       "      <td>NaN</td>\n",
       "      <td>NaN</td>\n",
       "    </tr>\n",
       "    <tr>\n",
       "      <td>PRICE_3</td>\n",
       "      <td>1.1</td>\n",
       "      <td>-1.1</td>\n",
       "      <td>3</td>\n",
       "      <td>-1.3</td>\n",
       "      <td>0.14</td>\n",
       "      <td>NaN</td>\n",
       "      <td>NaN</td>\n",
       "      <td>NaN</td>\n",
       "      <td>NaN</td>\n",
       "      <td>NaN</td>\n",
       "      <td>NaN</td>\n",
       "      <td>NaN</td>\n",
       "      <td>NaN</td>\n",
       "      <td>NaN</td>\n",
       "      <td>NaN</td>\n",
       "      <td>NaN</td>\n",
       "      <td>NaN</td>\n",
       "    </tr>\n",
       "    <tr>\n",
       "      <td>PRICE_4</td>\n",
       "      <td>1.1</td>\n",
       "      <td>-0.27</td>\n",
       "      <td>1.7</td>\n",
       "      <td>-0.53</td>\n",
       "      <td>-0.036</td>\n",
       "      <td>0.014</td>\n",
       "      <td>NaN</td>\n",
       "      <td>NaN</td>\n",
       "      <td>NaN</td>\n",
       "      <td>NaN</td>\n",
       "      <td>NaN</td>\n",
       "      <td>NaN</td>\n",
       "      <td>NaN</td>\n",
       "      <td>NaN</td>\n",
       "      <td>NaN</td>\n",
       "      <td>NaN</td>\n",
       "      <td>NaN</td>\n",
       "    </tr>\n",
       "    <tr>\n",
       "      <td>PRICE_5</td>\n",
       "      <td>1</td>\n",
       "      <td>3</td>\n",
       "      <td>-5.1</td>\n",
       "      <td>4.7</td>\n",
       "      <td>-1.9</td>\n",
       "      <td>0.33</td>\n",
       "      <td>-0.021</td>\n",
       "      <td>NaN</td>\n",
       "      <td>NaN</td>\n",
       "      <td>NaN</td>\n",
       "      <td>NaN</td>\n",
       "      <td>NaN</td>\n",
       "      <td>NaN</td>\n",
       "      <td>NaN</td>\n",
       "      <td>NaN</td>\n",
       "      <td>NaN</td>\n",
       "      <td>NaN</td>\n",
       "    </tr>\n",
       "    <tr>\n",
       "      <td>PRICE_6</td>\n",
       "      <td>0.99</td>\n",
       "      <td>-2.8</td>\n",
       "      <td>9.5</td>\n",
       "      <td>-9.7</td>\n",
       "      <td>5.2</td>\n",
       "      <td>-1.6</td>\n",
       "      <td>0.23</td>\n",
       "      <td>-0.014</td>\n",
       "      <td>NaN</td>\n",
       "      <td>NaN</td>\n",
       "      <td>NaN</td>\n",
       "      <td>NaN</td>\n",
       "      <td>NaN</td>\n",
       "      <td>NaN</td>\n",
       "      <td>NaN</td>\n",
       "      <td>NaN</td>\n",
       "      <td>NaN</td>\n",
       "    </tr>\n",
       "    <tr>\n",
       "      <td>PRICE_7</td>\n",
       "      <td>0.93</td>\n",
       "      <td>19</td>\n",
       "      <td>-56</td>\n",
       "      <td>69</td>\n",
       "      <td>-45</td>\n",
       "      <td>17</td>\n",
       "      <td>-3.5</td>\n",
       "      <td>0.4</td>\n",
       "      <td>-0.019</td>\n",
       "      <td>NaN</td>\n",
       "      <td>NaN</td>\n",
       "      <td>NaN</td>\n",
       "      <td>NaN</td>\n",
       "      <td>NaN</td>\n",
       "      <td>NaN</td>\n",
       "      <td>NaN</td>\n",
       "      <td>NaN</td>\n",
       "    </tr>\n",
       "    <tr>\n",
       "      <td>PRICE_8</td>\n",
       "      <td>0.92</td>\n",
       "      <td>43</td>\n",
       "      <td>-1.4e+02</td>\n",
       "      <td>1.8e+02</td>\n",
       "      <td>-1.3e+02</td>\n",
       "      <td>58</td>\n",
       "      <td>-15</td>\n",
       "      <td>2.4</td>\n",
       "      <td>-0.21</td>\n",
       "      <td>0.0077</td>\n",
       "      <td>NaN</td>\n",
       "      <td>NaN</td>\n",
       "      <td>NaN</td>\n",
       "      <td>NaN</td>\n",
       "      <td>NaN</td>\n",
       "      <td>NaN</td>\n",
       "      <td>NaN</td>\n",
       "    </tr>\n",
       "    <tr>\n",
       "      <td>PRICE_9</td>\n",
       "      <td>0.87</td>\n",
       "      <td>1.7e+02</td>\n",
       "      <td>-6.1e+02</td>\n",
       "      <td>9.6e+02</td>\n",
       "      <td>-8.5e+02</td>\n",
       "      <td>4.6e+02</td>\n",
       "      <td>-1.6e+02</td>\n",
       "      <td>37</td>\n",
       "      <td>-5.2</td>\n",
       "      <td>0.42</td>\n",
       "      <td>-0.015</td>\n",
       "      <td>NaN</td>\n",
       "      <td>NaN</td>\n",
       "      <td>NaN</td>\n",
       "      <td>NaN</td>\n",
       "      <td>NaN</td>\n",
       "      <td>NaN</td>\n",
       "    </tr>\n",
       "    <tr>\n",
       "      <td>PRICE_10</td>\n",
       "      <td>0.87</td>\n",
       "      <td>1.4e+02</td>\n",
       "      <td>-4.9e+02</td>\n",
       "      <td>7.3e+02</td>\n",
       "      <td>-6e+02</td>\n",
       "      <td>2.9e+02</td>\n",
       "      <td>-87</td>\n",
       "      <td>15</td>\n",
       "      <td>-0.81</td>\n",
       "      <td>-0.14</td>\n",
       "      <td>0.026</td>\n",
       "      <td>-0.0013</td>\n",
       "      <td>NaN</td>\n",
       "      <td>NaN</td>\n",
       "      <td>NaN</td>\n",
       "      <td>NaN</td>\n",
       "      <td>NaN</td>\n",
       "    </tr>\n",
       "    <tr>\n",
       "      <td>PRICE_11</td>\n",
       "      <td>0.87</td>\n",
       "      <td>-75</td>\n",
       "      <td>5.1e+02</td>\n",
       "      <td>-1.3e+03</td>\n",
       "      <td>1.9e+03</td>\n",
       "      <td>-1.6e+03</td>\n",
       "      <td>9.1e+02</td>\n",
       "      <td>-3.5e+02</td>\n",
       "      <td>91</td>\n",
       "      <td>-16</td>\n",
       "      <td>1.8</td>\n",
       "      <td>-0.12</td>\n",
       "      <td>0.0034</td>\n",
       "      <td>NaN</td>\n",
       "      <td>NaN</td>\n",
       "      <td>NaN</td>\n",
       "      <td>NaN</td>\n",
       "    </tr>\n",
       "    <tr>\n",
       "      <td>PRICE_12</td>\n",
       "      <td>0.87</td>\n",
       "      <td>-3.4e+02</td>\n",
       "      <td>1.9e+03</td>\n",
       "      <td>-4.4e+03</td>\n",
       "      <td>6e+03</td>\n",
       "      <td>-5.2e+03</td>\n",
       "      <td>3.1e+03</td>\n",
       "      <td>-1.3e+03</td>\n",
       "      <td>3.8e+02</td>\n",
       "      <td>-80</td>\n",
       "      <td>12</td>\n",
       "      <td>-1.1</td>\n",
       "      <td>0.062</td>\n",
       "      <td>-0.0016</td>\n",
       "      <td>NaN</td>\n",
       "      <td>NaN</td>\n",
       "      <td>NaN</td>\n",
       "    </tr>\n",
       "    <tr>\n",
       "      <td>PRICE_13</td>\n",
       "      <td>0.86</td>\n",
       "      <td>3.2e+03</td>\n",
       "      <td>-1.8e+04</td>\n",
       "      <td>4.5e+04</td>\n",
       "      <td>-6.7e+04</td>\n",
       "      <td>6.6e+04</td>\n",
       "      <td>-4.6e+04</td>\n",
       "      <td>2.3e+04</td>\n",
       "      <td>-8.5e+03</td>\n",
       "      <td>2.3e+03</td>\n",
       "      <td>-4.5e+02</td>\n",
       "      <td>62</td>\n",
       "      <td>-5.7</td>\n",
       "      <td>0.31</td>\n",
       "      <td>-0.0078</td>\n",
       "      <td>NaN</td>\n",
       "      <td>NaN</td>\n",
       "    </tr>\n",
       "    <tr>\n",
       "      <td>PRICE_14</td>\n",
       "      <td>0.79</td>\n",
       "      <td>2.4e+04</td>\n",
       "      <td>-1.4e+05</td>\n",
       "      <td>3.8e+05</td>\n",
       "      <td>-6.1e+05</td>\n",
       "      <td>6.6e+05</td>\n",
       "      <td>-5e+05</td>\n",
       "      <td>2.8e+05</td>\n",
       "      <td>-1.2e+05</td>\n",
       "      <td>3.7e+04</td>\n",
       "      <td>-8.5e+03</td>\n",
       "      <td>1.5e+03</td>\n",
       "      <td>-1.8e+02</td>\n",
       "      <td>15</td>\n",
       "      <td>-0.73</td>\n",
       "      <td>0.017</td>\n",
       "      <td>NaN</td>\n",
       "    </tr>\n",
       "    <tr>\n",
       "      <td>PRICE_15</td>\n",
       "      <td>0.7</td>\n",
       "      <td>-3.6e+04</td>\n",
       "      <td>2.4e+05</td>\n",
       "      <td>-7.5e+05</td>\n",
       "      <td>1.4e+06</td>\n",
       "      <td>-1.7e+06</td>\n",
       "      <td>1.5e+06</td>\n",
       "      <td>-1e+06</td>\n",
       "      <td>5e+05</td>\n",
       "      <td>-1.9e+05</td>\n",
       "      <td>5.4e+04</td>\n",
       "      <td>-1.2e+04</td>\n",
       "      <td>1.9e+03</td>\n",
       "      <td>-2.2e+02</td>\n",
       "      <td>17</td>\n",
       "      <td>-0.81</td>\n",
       "      <td>0.018</td>\n",
       "    </tr>\n",
       "  </tbody>\n",
       "</table>\n",
       "</div>"
      ],
      "text/plain": [
       "          rss intercept  PRICE_1  PRICE_2  PRICE_3  PRICE_4  PRICE_5  PRICE_6  \\\n",
       "PRICE_1   3.3         2    -0.62      NaN      NaN      NaN      NaN      NaN   \n",
       "PRICE_2   3.3       1.9    -0.58   -0.006      NaN      NaN      NaN      NaN   \n",
       "PRICE_3   1.1      -1.1        3     -1.3     0.14      NaN      NaN      NaN   \n",
       "PRICE_4   1.1     -0.27      1.7    -0.53   -0.036    0.014      NaN      NaN   \n",
       "PRICE_5     1         3     -5.1      4.7     -1.9     0.33   -0.021      NaN   \n",
       "PRICE_6  0.99      -2.8      9.5     -9.7      5.2     -1.6     0.23   -0.014   \n",
       "PRICE_7  0.93        19      -56       69      -45       17     -3.5      0.4   \n",
       "PRICE_8  0.92        43 -1.4e+02  1.8e+02 -1.3e+02       58      -15      2.4   \n",
       "PRICE_9  0.87   1.7e+02 -6.1e+02  9.6e+02 -8.5e+02  4.6e+02 -1.6e+02       37   \n",
       "PRICE_10 0.87   1.4e+02 -4.9e+02  7.3e+02   -6e+02  2.9e+02      -87       15   \n",
       "PRICE_11 0.87       -75  5.1e+02 -1.3e+03  1.9e+03 -1.6e+03  9.1e+02 -3.5e+02   \n",
       "PRICE_12 0.87  -3.4e+02  1.9e+03 -4.4e+03    6e+03 -5.2e+03  3.1e+03 -1.3e+03   \n",
       "PRICE_13 0.86   3.2e+03 -1.8e+04  4.5e+04 -6.7e+04  6.6e+04 -4.6e+04  2.3e+04   \n",
       "PRICE_14 0.79   2.4e+04 -1.4e+05  3.8e+05 -6.1e+05  6.6e+05   -5e+05  2.8e+05   \n",
       "PRICE_15  0.7  -3.6e+04  2.4e+05 -7.5e+05  1.4e+06 -1.7e+06  1.5e+06   -1e+06   \n",
       "\n",
       "          PRICE_7  PRICE_8  PRICE_9 PRICE_10 PRICE_11 PRICE_12 PRICE_13  \\\n",
       "PRICE_1       NaN      NaN      NaN      NaN      NaN      NaN      NaN   \n",
       "PRICE_2       NaN      NaN      NaN      NaN      NaN      NaN      NaN   \n",
       "PRICE_3       NaN      NaN      NaN      NaN      NaN      NaN      NaN   \n",
       "PRICE_4       NaN      NaN      NaN      NaN      NaN      NaN      NaN   \n",
       "PRICE_5       NaN      NaN      NaN      NaN      NaN      NaN      NaN   \n",
       "PRICE_6       NaN      NaN      NaN      NaN      NaN      NaN      NaN   \n",
       "PRICE_7    -0.019      NaN      NaN      NaN      NaN      NaN      NaN   \n",
       "PRICE_8     -0.21   0.0077      NaN      NaN      NaN      NaN      NaN   \n",
       "PRICE_9      -5.2     0.42   -0.015      NaN      NaN      NaN      NaN   \n",
       "PRICE_10    -0.81    -0.14    0.026  -0.0013      NaN      NaN      NaN   \n",
       "PRICE_11       91      -16      1.8    -0.12   0.0034      NaN      NaN   \n",
       "PRICE_12  3.8e+02      -80       12     -1.1    0.062  -0.0016      NaN   \n",
       "PRICE_13 -8.5e+03  2.3e+03 -4.5e+02       62     -5.7     0.31  -0.0078   \n",
       "PRICE_14 -1.2e+05  3.7e+04 -8.5e+03  1.5e+03 -1.8e+02       15    -0.73   \n",
       "PRICE_15    5e+05 -1.9e+05  5.4e+04 -1.2e+04  1.9e+03 -2.2e+02       17   \n",
       "\n",
       "         PRICE_14 PRICE_15  \n",
       "PRICE_1       NaN      NaN  \n",
       "PRICE_2       NaN      NaN  \n",
       "PRICE_3       NaN      NaN  \n",
       "PRICE_4       NaN      NaN  \n",
       "PRICE_5       NaN      NaN  \n",
       "PRICE_6       NaN      NaN  \n",
       "PRICE_7       NaN      NaN  \n",
       "PRICE_8       NaN      NaN  \n",
       "PRICE_9       NaN      NaN  \n",
       "PRICE_10      NaN      NaN  \n",
       "PRICE_11      NaN      NaN  \n",
       "PRICE_12      NaN      NaN  \n",
       "PRICE_13      NaN      NaN  \n",
       "PRICE_14    0.017      NaN  \n",
       "PRICE_15    -0.81    0.018  "
      ]
     },
     "execution_count": 43,
     "metadata": {},
     "output_type": "execute_result"
    }
   ],
   "source": [
    "#Set the display format to be scientific for ease of analysis\n",
    "pd.options.display.float_format = '{:,.2g}'.format\n",
    "coef_matrix_simple"
   ]
  },
  {
   "cell_type": "code",
   "execution_count": 44,
   "metadata": {},
   "outputs": [],
   "source": [
    "def ridge_regression(data, predictors, alpha, models_to_plot={}):\n",
    "    #Fit the model\n",
    "    ridgereg = Ridge(alpha=alpha,normalize=True)\n",
    "    \n",
    "    ridgereg.fit(data[predictors],data['SQUARE_FEET'])\n",
    "    y_pred = ridgereg.predict(data[predictors])\n",
    "    \n",
    "    #Check if a plot is to be made for the entered alpha\n",
    "    if alpha in models_to_plot:\n",
    "        plt.subplot(models_to_plot[alpha])\n",
    "        plt.tight_layout()\n",
    "        plt.plot(data['PRICE'],y_pred)\n",
    "        plt.plot(data['PRICE'],data['SQUARE_FEET'],'.')\n",
    "        plt.title('Plot for alpha: %.3g'%alpha)\n",
    "    \n",
    "    #Return the result in pre-defined format\n",
    "    rss = sum((y_pred-data['SQUARE_FEET'])**2)\n",
    "    aic = len(data)*np.log(rss/len(data)) + 2*(len(data.columns)-1)\n",
    "    ret = [rss]\n",
    "    ret.extend([aic])\n",
    "    ret.extend([ridgereg.intercept_])\n",
    "    ret.extend(ridgereg.coef_)\n",
    "    return ret"
   ]
  },
  {
   "cell_type": "code",
   "execution_count": null,
   "metadata": {},
   "outputs": [
    {
     "data": {
      "image/png": "[encoded data removed]",
      "text/plain": [
       "<Figure size 864x720 with 9 Axes>"
      ]
     },
     "metadata": {
      "needs_background": "light"
     },
     "output_type": "display_data"
    }
   ],
   "source": [
    "#Initialize predictors to be set of 15 powers of x\n",
    "predictors=['PRICE']\n",
    "predictors.extend(['PRICE_%d'%i for i in range(2,16)])\n",
    "\n",
    "#Set the different values of alpha to be tested\n",
    "alpha_ridge = [1e-15, 1e-6, 1e-5, 1e-4, 1e-3, 1e-2, .5e-1, 1, 5, 20]\n",
    "\n",
    "#Initialize the dataframe for storing coefficients.\n",
    "col = ['sse','aic','intercept'] + ['coef_x_%d'%i for i in range(1,16)]\n",
    "ind = ['alpha_%.2g'%alpha_ridge[i] for i in range(0,10)]\n",
    "coef_matrix_ridge = pd.DataFrame(index=ind, columns=col)\n",
    "\n",
    "models_to_plot = {1e-6:331, 1e-5:332, 1e-4:333, 1e-3:334, 1e-2:335, .5e-1:336, 1:337, 5:338, 20:339}\n",
    "for i in range(10):\n",
    "    coef_matrix_ridge.iloc[i,] = ridge_regression(data, predictors, alpha_ridge[i], models_to_plot)"
   ]
  },
  {
   "cell_type": "code",
   "execution_count": null,
   "metadata": {},
   "outputs": [],
   "source": []
  }
 ],
 "metadata": {
  "kernelspec": {
   "display_name": "Python 3",
   "language": "python",
   "name": "python3"
  },
  "language_info": {
   "codemirror_mode": {
    "name": "ipython",
    "version": 3
   },
   "file_extension": ".py",
   "mimetype": "text/x-python",
   "name": "python",
   "nbconvert_exporter": "python",
   "pygments_lexer": "ipython3",
   "version": "3.7.4"
  }
 },
 "nbformat": 4,
 "nbformat_minor": 2
}
