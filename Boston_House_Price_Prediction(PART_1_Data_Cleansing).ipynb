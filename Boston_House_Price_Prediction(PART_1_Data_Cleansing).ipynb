{
  "nbformat": 4,
  "nbformat_minor": 0,
  "metadata": {
    "colab": {
      "name": "Boston_House_Price_Prediction(PART 1_Data Cleansing).ipynb",
      "provenance": [],
      "toc_visible": true,
      "authorship_tag": "ABX9TyMHcs9pjpFs8aY04f4U7YkE",
      "include_colab_link": true
    },
    "kernelspec": {
      "name": "python3",
      "display_name": "Python 3"
    }
  },
  "cells": [
    {
      "cell_type": "markdown",
      "metadata": {
        "id": "view-in-github",
        "colab_type": "text"
      },
      "source": [
        "<a href=\"https://colab.research.google.com/github/Dennieeeee/Real-Estate-House-Price-Prediction/blob/master/Boston_House_Price_Prediction(PART_1_Data_Cleansing).ipynb\" target=\"_parent\"><img src=\"https://colab.research.google.com/assets/colab-badge.svg\" alt=\"Open In Colab\"/></a>"
      ]
    },
    {
      "cell_type": "code",
      "metadata": {
        "id": "G6qq7U0YsmHB",
        "colab_type": "code",
        "colab": {}
      },
      "source": [
        "import pandas as pd\n",
        "import numpy as np\n",
        "import matplotlib.pyplot as plt\n",
        "import seaborn as sns\n",
        "from scipy.stats import norm\n",
        "from sklearn.neighbors import LocalOutlierFactor"
      ],
      "execution_count": 27,
      "outputs": []
    },
    {
      "cell_type": "code",
      "metadata": {
        "id": "A9kW2_97t8nM",
        "colab_type": "code",
        "colab": {}
      },
      "source": [
        "file='https://raw.githubusercontent.com/Dennieeeee/Real-Estate-House-Price-Prediction/master/boston_housing.csv'\n",
        "df=pd.read_csv(file)"
      ],
      "execution_count": 28,
      "outputs": []
    },
    {
      "cell_type": "code",
      "metadata": {
        "id": "ML_h9DiruEcV",
        "colab_type": "code",
        "colab": {
          "base_uri": "https://localhost:8080/",
          "height": 236
        },
        "outputId": "85780126-4bc4-4e69-8208-6431774eade3"
      },
      "source": [
        "df.head(1)"
      ],
      "execution_count": 29,
      "outputs": [
        {
          "output_type": "execute_result",
          "data": {
            "text/html": [
              "<div>\n",
              "<style scoped>\n",
              "    .dataframe tbody tr th:only-of-type {\n",
              "        vertical-align: middle;\n",
              "    }\n",
              "\n",
              "    .dataframe tbody tr th {\n",
              "        vertical-align: top;\n",
              "    }\n",
              "\n",
              "    .dataframe thead th {\n",
              "        text-align: right;\n",
              "    }\n",
              "</style>\n",
              "<table border=\"1\" class=\"dataframe\">\n",
              "  <thead>\n",
              "    <tr style=\"text-align: right;\">\n",
              "      <th></th>\n",
              "      <th>SALE TYPE</th>\n",
              "      <th>SOLD DATE</th>\n",
              "      <th>PROPERTY TYPE</th>\n",
              "      <th>ADDRESS</th>\n",
              "      <th>CITY</th>\n",
              "      <th>STATE OR PROVINCE</th>\n",
              "      <th>ZIP OR POSTAL CODE</th>\n",
              "      <th>PRICE</th>\n",
              "      <th>BEDS</th>\n",
              "      <th>BATHS</th>\n",
              "      <th>LOCATION</th>\n",
              "      <th>SQUARE FEET</th>\n",
              "      <th>LOT SIZE</th>\n",
              "      <th>YEAR BUILT</th>\n",
              "      <th>DAYS ON MARKET</th>\n",
              "      <th>$/SQUARE FEET</th>\n",
              "      <th>HOA/MONTH</th>\n",
              "      <th>STATUS</th>\n",
              "      <th>NEXT OPEN HOUSE START TIME</th>\n",
              "      <th>NEXT OPEN HOUSE END TIME</th>\n",
              "      <th>URL (SEE http://www.redfin.com/buy-a-home/comparative-market-analysis FOR INFO ON PRICING)</th>\n",
              "      <th>SOURCE</th>\n",
              "      <th>MLS#</th>\n",
              "      <th>FAVORITE</th>\n",
              "      <th>INTERESTED</th>\n",
              "      <th>LATITUDE</th>\n",
              "      <th>LONGITUDE</th>\n",
              "    </tr>\n",
              "  </thead>\n",
              "  <tbody>\n",
              "    <tr>\n",
              "      <th>0</th>\n",
              "      <td>MLS Listing</td>\n",
              "      <td>NaN</td>\n",
              "      <td>Condo/Co-op</td>\n",
              "      <td>1466 Commonwealth Ave #1</td>\n",
              "      <td>Boston</td>\n",
              "      <td>MA</td>\n",
              "      <td>2135</td>\n",
              "      <td>599000</td>\n",
              "      <td>3.0</td>\n",
              "      <td>1.0</td>\n",
              "      <td>Brighton</td>\n",
              "      <td>1346.0</td>\n",
              "      <td>1346.0</td>\n",
              "      <td>1925.0</td>\n",
              "      <td>1</td>\n",
              "      <td>445.0</td>\n",
              "      <td>451.0</td>\n",
              "      <td>Active</td>\n",
              "      <td>June-28-2020 01:30 PM</td>\n",
              "      <td>June-28-2020 03:00 PM</td>\n",
              "      <td>http://www.redfin.com/MA/Boston/1466-Commonwea...</td>\n",
              "      <td>MLS PIN</td>\n",
              "      <td>72681122</td>\n",
              "      <td>N</td>\n",
              "      <td>Y</td>\n",
              "      <td>42.347122</td>\n",
              "      <td>-71.140307</td>\n",
              "    </tr>\n",
              "  </tbody>\n",
              "</table>\n",
              "</div>"
            ],
            "text/plain": [
              "     SALE TYPE  SOLD DATE PROPERTY TYPE  ... INTERESTED   LATITUDE  LONGITUDE\n",
              "0  MLS Listing        NaN   Condo/Co-op  ...          Y  42.347122 -71.140307\n",
              "\n",
              "[1 rows x 27 columns]"
            ]
          },
          "metadata": {
            "tags": []
          },
          "execution_count": 29
        }
      ]
    },
    {
      "cell_type": "markdown",
      "metadata": {
        "id": "7eZhWqtU0Cdt",
        "colab_type": "text"
      },
      "source": [
        "#Data Cleansing\n",
        "- Remove unnecessary features\n",
        "- Remove rows with 0 bedding\n",
        "- Outliers\n",
        "- Handle missing values\n",
        "- Ensure the overall data quality"
      ]
    },
    {
      "cell_type": "code",
      "metadata": {
        "id": "vnToV9pNuFq6",
        "colab_type": "code",
        "colab": {}
      },
      "source": [
        "#drop unnecessary features\n",
        "columns=['SOLD DATE','NEXT OPEN HOUSE START TIME','NEXT OPEN HOUSE END TIME','URL (SEE http://www.redfin.com/buy-a-home/comparative-market-analysis FOR INFO ON PRICING)',\n",
        "                'SOURCE','MLS#','DAYS ON MARKET']\n",
        "df=df.drop(columns,axis=1)\n"
      ],
      "execution_count": 30,
      "outputs": []
    },
    {
      "cell_type": "code",
      "metadata": {
        "id": "HZ20RAo3zlWU",
        "colab_type": "code",
        "colab": {
          "base_uri": "https://localhost:8080/",
          "height": 298
        },
        "outputId": "7579a284-4f47-4de0-acf1-ce992660e2fe"
      },
      "source": [
        "df.head(3)"
      ],
      "execution_count": 31,
      "outputs": [
        {
          "output_type": "execute_result",
          "data": {
            "text/html": [
              "<div>\n",
              "<style scoped>\n",
              "    .dataframe tbody tr th:only-of-type {\n",
              "        vertical-align: middle;\n",
              "    }\n",
              "\n",
              "    .dataframe tbody tr th {\n",
              "        vertical-align: top;\n",
              "    }\n",
              "\n",
              "    .dataframe thead th {\n",
              "        text-align: right;\n",
              "    }\n",
              "</style>\n",
              "<table border=\"1\" class=\"dataframe\">\n",
              "  <thead>\n",
              "    <tr style=\"text-align: right;\">\n",
              "      <th></th>\n",
              "      <th>SALE TYPE</th>\n",
              "      <th>PROPERTY TYPE</th>\n",
              "      <th>ADDRESS</th>\n",
              "      <th>CITY</th>\n",
              "      <th>STATE OR PROVINCE</th>\n",
              "      <th>ZIP OR POSTAL CODE</th>\n",
              "      <th>PRICE</th>\n",
              "      <th>BEDS</th>\n",
              "      <th>BATHS</th>\n",
              "      <th>LOCATION</th>\n",
              "      <th>SQUARE FEET</th>\n",
              "      <th>LOT SIZE</th>\n",
              "      <th>YEAR BUILT</th>\n",
              "      <th>$/SQUARE FEET</th>\n",
              "      <th>HOA/MONTH</th>\n",
              "      <th>STATUS</th>\n",
              "      <th>FAVORITE</th>\n",
              "      <th>INTERESTED</th>\n",
              "      <th>LATITUDE</th>\n",
              "      <th>LONGITUDE</th>\n",
              "    </tr>\n",
              "  </thead>\n",
              "  <tbody>\n",
              "    <tr>\n",
              "      <th>0</th>\n",
              "      <td>MLS Listing</td>\n",
              "      <td>Condo/Co-op</td>\n",
              "      <td>1466 Commonwealth Ave #1</td>\n",
              "      <td>Boston</td>\n",
              "      <td>MA</td>\n",
              "      <td>2135</td>\n",
              "      <td>599000</td>\n",
              "      <td>3.0</td>\n",
              "      <td>1.0</td>\n",
              "      <td>Brighton</td>\n",
              "      <td>1346.0</td>\n",
              "      <td>1346.0</td>\n",
              "      <td>1925.0</td>\n",
              "      <td>445.0</td>\n",
              "      <td>451.0</td>\n",
              "      <td>Active</td>\n",
              "      <td>N</td>\n",
              "      <td>Y</td>\n",
              "      <td>42.347122</td>\n",
              "      <td>-71.140307</td>\n",
              "    </tr>\n",
              "    <tr>\n",
              "      <th>1</th>\n",
              "      <td>MLS Listing</td>\n",
              "      <td>Townhouse</td>\n",
              "      <td>43 Leyden St #43</td>\n",
              "      <td>Boston</td>\n",
              "      <td>MA</td>\n",
              "      <td>2128</td>\n",
              "      <td>659800</td>\n",
              "      <td>3.0</td>\n",
              "      <td>2.5</td>\n",
              "      <td>East Boston's Orient Heights</td>\n",
              "      <td>1397.0</td>\n",
              "      <td>1889.0</td>\n",
              "      <td>2006.0</td>\n",
              "      <td>472.0</td>\n",
              "      <td>441.0</td>\n",
              "      <td>Active</td>\n",
              "      <td>N</td>\n",
              "      <td>Y</td>\n",
              "      <td>42.390130</td>\n",
              "      <td>-71.010972</td>\n",
              "    </tr>\n",
              "    <tr>\n",
              "      <th>2</th>\n",
              "      <td>MLS Listing</td>\n",
              "      <td>Condo/Co-op</td>\n",
              "      <td>603 E 6Th St #1</td>\n",
              "      <td>Boston</td>\n",
              "      <td>MA</td>\n",
              "      <td>2127</td>\n",
              "      <td>1199000</td>\n",
              "      <td>3.0</td>\n",
              "      <td>2.5</td>\n",
              "      <td>Boston</td>\n",
              "      <td>2018.0</td>\n",
              "      <td>NaN</td>\n",
              "      <td>1900.0</td>\n",
              "      <td>594.0</td>\n",
              "      <td>320.0</td>\n",
              "      <td>Active</td>\n",
              "      <td>N</td>\n",
              "      <td>Y</td>\n",
              "      <td>42.332858</td>\n",
              "      <td>-71.036264</td>\n",
              "    </tr>\n",
              "  </tbody>\n",
              "</table>\n",
              "</div>"
            ],
            "text/plain": [
              "     SALE TYPE PROPERTY TYPE  ...   LATITUDE  LONGITUDE\n",
              "0  MLS Listing   Condo/Co-op  ...  42.347122 -71.140307\n",
              "1  MLS Listing     Townhouse  ...  42.390130 -71.010972\n",
              "2  MLS Listing   Condo/Co-op  ...  42.332858 -71.036264\n",
              "\n",
              "[3 rows x 20 columns]"
            ]
          },
          "metadata": {
            "tags": []
          },
          "execution_count": 31
        }
      ]
    },
    {
      "cell_type": "code",
      "metadata": {
        "id": "Q2iz3SMlzm-4",
        "colab_type": "code",
        "colab": {
          "base_uri": "https://localhost:8080/",
          "height": 476
        },
        "outputId": "e863cc77-3766-42e7-97d8-9f2d01b72296"
      },
      "source": [
        "#check missing values\n",
        "df.info()"
      ],
      "execution_count": 32,
      "outputs": [
        {
          "output_type": "stream",
          "text": [
            "<class 'pandas.core.frame.DataFrame'>\n",
            "RangeIndex: 350 entries, 0 to 349\n",
            "Data columns (total 20 columns):\n",
            " #   Column              Non-Null Count  Dtype  \n",
            "---  ------              --------------  -----  \n",
            " 0   SALE TYPE           350 non-null    object \n",
            " 1   PROPERTY TYPE       350 non-null    object \n",
            " 2   ADDRESS             350 non-null    object \n",
            " 3   CITY                350 non-null    object \n",
            " 4   STATE OR PROVINCE   350 non-null    object \n",
            " 5   ZIP OR POSTAL CODE  350 non-null    int64  \n",
            " 6   PRICE               350 non-null    int64  \n",
            " 7   BEDS                349 non-null    float64\n",
            " 8   BATHS               349 non-null    float64\n",
            " 9   LOCATION            350 non-null    object \n",
            " 10  SQUARE FEET         349 non-null    float64\n",
            " 11  LOT SIZE            193 non-null    float64\n",
            " 12  YEAR BUILT          349 non-null    float64\n",
            " 13  $/SQUARE FEET       349 non-null    float64\n",
            " 14  HOA/MONTH           270 non-null    float64\n",
            " 15  STATUS              350 non-null    object \n",
            " 16  FAVORITE            350 non-null    object \n",
            " 17  INTERESTED          350 non-null    object \n",
            " 18  LATITUDE            350 non-null    float64\n",
            " 19  LONGITUDE           350 non-null    float64\n",
            "dtypes: float64(9), int64(2), object(9)\n",
            "memory usage: 54.8+ KB\n"
          ],
          "name": "stdout"
        }
      ]
    },
    {
      "cell_type": "code",
      "metadata": {
        "id": "-MGRS6f0zuln",
        "colab_type": "code",
        "colab": {
          "base_uri": "https://localhost:8080/",
          "height": 374
        },
        "outputId": "f149b810-5de1-4cd0-ba3b-c56fdb9cf3ec"
      },
      "source": [
        "df.isnull().sum()"
      ],
      "execution_count": 33,
      "outputs": [
        {
          "output_type": "execute_result",
          "data": {
            "text/plain": [
              "SALE TYPE               0\n",
              "PROPERTY TYPE           0\n",
              "ADDRESS                 0\n",
              "CITY                    0\n",
              "STATE OR PROVINCE       0\n",
              "ZIP OR POSTAL CODE      0\n",
              "PRICE                   0\n",
              "BEDS                    1\n",
              "BATHS                   1\n",
              "LOCATION                0\n",
              "SQUARE FEET             1\n",
              "LOT SIZE              157\n",
              "YEAR BUILT              1\n",
              "$/SQUARE FEET           1\n",
              "HOA/MONTH              80\n",
              "STATUS                  0\n",
              "FAVORITE                0\n",
              "INTERESTED              0\n",
              "LATITUDE                0\n",
              "LONGITUDE               0\n",
              "dtype: int64"
            ]
          },
          "metadata": {
            "tags": []
          },
          "execution_count": 33
        }
      ]
    },
    {
      "cell_type": "code",
      "metadata": {
        "id": "n2Ud0ACUzx_H",
        "colab_type": "code",
        "colab": {
          "base_uri": "https://localhost:8080/",
          "height": 297
        },
        "outputId": "050008d4-c2d3-4efd-888c-8aa90191b19f"
      },
      "source": [
        "df.describe()"
      ],
      "execution_count": 34,
      "outputs": [
        {
          "output_type": "execute_result",
          "data": {
            "text/html": [
              "<div>\n",
              "<style scoped>\n",
              "    .dataframe tbody tr th:only-of-type {\n",
              "        vertical-align: middle;\n",
              "    }\n",
              "\n",
              "    .dataframe tbody tr th {\n",
              "        vertical-align: top;\n",
              "    }\n",
              "\n",
              "    .dataframe thead th {\n",
              "        text-align: right;\n",
              "    }\n",
              "</style>\n",
              "<table border=\"1\" class=\"dataframe\">\n",
              "  <thead>\n",
              "    <tr style=\"text-align: right;\">\n",
              "      <th></th>\n",
              "      <th>ZIP OR POSTAL CODE</th>\n",
              "      <th>PRICE</th>\n",
              "      <th>BEDS</th>\n",
              "      <th>BATHS</th>\n",
              "      <th>SQUARE FEET</th>\n",
              "      <th>LOT SIZE</th>\n",
              "      <th>YEAR BUILT</th>\n",
              "      <th>$/SQUARE FEET</th>\n",
              "      <th>HOA/MONTH</th>\n",
              "      <th>LATITUDE</th>\n",
              "      <th>LONGITUDE</th>\n",
              "    </tr>\n",
              "  </thead>\n",
              "  <tbody>\n",
              "    <tr>\n",
              "      <th>count</th>\n",
              "      <td>350.000000</td>\n",
              "      <td>3.500000e+02</td>\n",
              "      <td>349.000000</td>\n",
              "      <td>349.000000</td>\n",
              "      <td>349.000000</td>\n",
              "      <td>193.000000</td>\n",
              "      <td>349.000000</td>\n",
              "      <td>349.000000</td>\n",
              "      <td>270.000000</td>\n",
              "      <td>350.000000</td>\n",
              "      <td>350.000000</td>\n",
              "    </tr>\n",
              "    <tr>\n",
              "      <th>mean</th>\n",
              "      <td>2141.237143</td>\n",
              "      <td>1.149418e+06</td>\n",
              "      <td>2.541547</td>\n",
              "      <td>1.898281</td>\n",
              "      <td>1523.148997</td>\n",
              "      <td>2925.544041</td>\n",
              "      <td>1940.297994</td>\n",
              "      <td>783.819484</td>\n",
              "      <td>984.074074</td>\n",
              "      <td>42.334072</td>\n",
              "      <td>-71.083660</td>\n",
              "    </tr>\n",
              "    <tr>\n",
              "      <th>std</th>\n",
              "      <td>65.200535</td>\n",
              "      <td>1.287596e+06</td>\n",
              "      <td>1.578090</td>\n",
              "      <td>0.937162</td>\n",
              "      <td>1011.692803</td>\n",
              "      <td>2941.781764</td>\n",
              "      <td>68.150210</td>\n",
              "      <td>437.005542</td>\n",
              "      <td>6105.238006</td>\n",
              "      <td>0.032294</td>\n",
              "      <td>0.039567</td>\n",
              "    </tr>\n",
              "    <tr>\n",
              "      <th>min</th>\n",
              "      <td>2026.000000</td>\n",
              "      <td>2.350000e+05</td>\n",
              "      <td>0.000000</td>\n",
              "      <td>1.000000</td>\n",
              "      <td>293.000000</td>\n",
              "      <td>370.000000</td>\n",
              "      <td>1087.000000</td>\n",
              "      <td>129.000000</td>\n",
              "      <td>107.000000</td>\n",
              "      <td>42.232938</td>\n",
              "      <td>-71.172864</td>\n",
              "    </tr>\n",
              "    <tr>\n",
              "      <th>25%</th>\n",
              "      <td>2118.000000</td>\n",
              "      <td>5.790000e+05</td>\n",
              "      <td>2.000000</td>\n",
              "      <td>1.000000</td>\n",
              "      <td>846.000000</td>\n",
              "      <td>952.000000</td>\n",
              "      <td>1900.000000</td>\n",
              "      <td>463.000000</td>\n",
              "      <td>227.000000</td>\n",
              "      <td>42.315013</td>\n",
              "      <td>-71.114098</td>\n",
              "    </tr>\n",
              "    <tr>\n",
              "      <th>50%</th>\n",
              "      <td>2127.000000</td>\n",
              "      <td>7.499500e+05</td>\n",
              "      <td>2.000000</td>\n",
              "      <td>2.000000</td>\n",
              "      <td>1238.000000</td>\n",
              "      <td>1605.000000</td>\n",
              "      <td>1920.000000</td>\n",
              "      <td>705.000000</td>\n",
              "      <td>367.500000</td>\n",
              "      <td>42.341268</td>\n",
              "      <td>-71.074068</td>\n",
              "    </tr>\n",
              "    <tr>\n",
              "      <th>75%</th>\n",
              "      <td>2132.000000</td>\n",
              "      <td>1.193000e+06</td>\n",
              "      <td>3.000000</td>\n",
              "      <td>2.500000</td>\n",
              "      <td>1813.000000</td>\n",
              "      <td>4120.000000</td>\n",
              "      <td>2000.000000</td>\n",
              "      <td>1007.000000</td>\n",
              "      <td>581.250000</td>\n",
              "      <td>42.353596</td>\n",
              "      <td>-71.054172</td>\n",
              "    </tr>\n",
              "    <tr>\n",
              "      <th>max</th>\n",
              "      <td>2467.000000</td>\n",
              "      <td>1.399500e+07</td>\n",
              "      <td>12.000000</td>\n",
              "      <td>6.000000</td>\n",
              "      <td>8200.000000</td>\n",
              "      <td>16857.000000</td>\n",
              "      <td>2021.000000</td>\n",
              "      <td>3355.000000</td>\n",
              "      <td>99999.000000</td>\n",
              "      <td>42.391548</td>\n",
              "      <td>-70.995862</td>\n",
              "    </tr>\n",
              "  </tbody>\n",
              "</table>\n",
              "</div>"
            ],
            "text/plain": [
              "       ZIP OR POSTAL CODE         PRICE  ...    LATITUDE   LONGITUDE\n",
              "count          350.000000  3.500000e+02  ...  350.000000  350.000000\n",
              "mean          2141.237143  1.149418e+06  ...   42.334072  -71.083660\n",
              "std             65.200535  1.287596e+06  ...    0.032294    0.039567\n",
              "min           2026.000000  2.350000e+05  ...   42.232938  -71.172864\n",
              "25%           2118.000000  5.790000e+05  ...   42.315013  -71.114098\n",
              "50%           2127.000000  7.499500e+05  ...   42.341268  -71.074068\n",
              "75%           2132.000000  1.193000e+06  ...   42.353596  -71.054172\n",
              "max           2467.000000  1.399500e+07  ...   42.391548  -70.995862\n",
              "\n",
              "[8 rows x 11 columns]"
            ]
          },
          "metadata": {
            "tags": []
          },
          "execution_count": 34
        }
      ]
    },
    {
      "cell_type": "markdown",
      "metadata": {
        "id": "BPCtOWgj7pD5",
        "colab_type": "text"
      },
      "source": [
        "#Preparing the dataset"
      ]
    },
    {
      "cell_type": "code",
      "metadata": {
        "id": "DJfdyhSUz0jw",
        "colab_type": "code",
        "colab": {}
      },
      "source": [
        "#remove rows with 0 bedding\n",
        "df1 = df.loc[~(df[df.columns[:-1]] == 0).any(axis=1)]"
      ],
      "execution_count": 35,
      "outputs": []
    },
    {
      "cell_type": "code",
      "metadata": {
        "id": "hSh-pHUaAYOr",
        "colab_type": "code",
        "colab": {}
      },
      "source": [
        "#rename everything\n",
        "#upper case to lower case\n",
        "#apply the naming convention: add underscore\n",
        "df1 = df1.rename(columns={'SALE TYPE':'sale_type','PROPERTY TYPE':'property_type', 'ADDRESS':'address', 'CITY':'city', 'STATE OR PROVINCE':'state_or_province',\n",
        "       'ZIP OR POSTAL CODE':'zip_code', 'PRICE':'price', 'BEDS':'beds', 'BATHS':'baths', 'LOCATION':'location',\n",
        "       'SQUARE FEET':'square_feet', 'LOT SIZE':'lot_size', 'YEAR BUILT':'year_built', '$/SQUARE FEET':'amount_per_square_feet', 'HOA/MONTH':'HOA_per_month',\n",
        "       'STATUS':'status', 'FAVORITE':'favorite', 'INTERESTED':'interested', 'LATITUDE':'latitude', 'LONGITUDE':'longitude'\n",
        "})\n"
      ],
      "execution_count": 36,
      "outputs": []
    },
    {
      "cell_type": "code",
      "metadata": {
        "id": "2UQs9gl1_mP_",
        "colab_type": "code",
        "colab": {}
      },
      "source": [
        "# Replace BEDS and BATHS missing values with average\n",
        "df1['beds'].fillna(df1['beds'].mean(),inplace=True)\n",
        "df1['baths'].fillna(df1['baths'].mean(),inplace=True)\n",
        "df1['square_feet'].fillna(df1['square_feet'].mean(),inplace=True)"
      ],
      "execution_count": 37,
      "outputs": []
    },
    {
      "cell_type": "code",
      "metadata": {
        "id": "ZyRZyh-I0gYu",
        "colab_type": "code",
        "colab": {}
      },
      "source": [
        "df1=df1.dropna()"
      ],
      "execution_count": 38,
      "outputs": []
    },
    {
      "cell_type": "code",
      "metadata": {
        "id": "7avvwQ42z7E0",
        "colab_type": "code",
        "colab": {
          "base_uri": "https://localhost:8080/",
          "height": 297
        },
        "outputId": "55a6e938-99f6-4a2f-fdb3-b8a778a8bddc"
      },
      "source": [
        "df1.describe()"
      ],
      "execution_count": 39,
      "outputs": [
        {
          "output_type": "execute_result",
          "data": {
            "text/html": [
              "<div>\n",
              "<style scoped>\n",
              "    .dataframe tbody tr th:only-of-type {\n",
              "        vertical-align: middle;\n",
              "    }\n",
              "\n",
              "    .dataframe tbody tr th {\n",
              "        vertical-align: top;\n",
              "    }\n",
              "\n",
              "    .dataframe thead th {\n",
              "        text-align: right;\n",
              "    }\n",
              "</style>\n",
              "<table border=\"1\" class=\"dataframe\">\n",
              "  <thead>\n",
              "    <tr style=\"text-align: right;\">\n",
              "      <th></th>\n",
              "      <th>zip_code</th>\n",
              "      <th>price</th>\n",
              "      <th>beds</th>\n",
              "      <th>baths</th>\n",
              "      <th>square_feet</th>\n",
              "      <th>lot_size</th>\n",
              "      <th>year_built</th>\n",
              "      <th>amount_per_square_feet</th>\n",
              "      <th>HOA_per_month</th>\n",
              "      <th>latitude</th>\n",
              "      <th>longitude</th>\n",
              "    </tr>\n",
              "  </thead>\n",
              "  <tbody>\n",
              "    <tr>\n",
              "      <th>count</th>\n",
              "      <td>116.000000</td>\n",
              "      <td>1.160000e+02</td>\n",
              "      <td>116.000000</td>\n",
              "      <td>116.000000</td>\n",
              "      <td>116.000000</td>\n",
              "      <td>116.000000</td>\n",
              "      <td>116.000000</td>\n",
              "      <td>116.000000</td>\n",
              "      <td>116.000000</td>\n",
              "      <td>116.000000</td>\n",
              "      <td>116.000000</td>\n",
              "    </tr>\n",
              "    <tr>\n",
              "      <th>mean</th>\n",
              "      <td>2125.198276</td>\n",
              "      <td>9.351388e+05</td>\n",
              "      <td>2.060345</td>\n",
              "      <td>1.538793</td>\n",
              "      <td>1152.034483</td>\n",
              "      <td>1709.758621</td>\n",
              "      <td>1930.767241</td>\n",
              "      <td>809.758621</td>\n",
              "      <td>1380.146552</td>\n",
              "      <td>42.337190</td>\n",
              "      <td>-71.074904</td>\n",
              "    </tr>\n",
              "    <tr>\n",
              "      <th>std</th>\n",
              "      <td>18.692579</td>\n",
              "      <td>8.845641e+05</td>\n",
              "      <td>0.772222</td>\n",
              "      <td>0.622585</td>\n",
              "      <td>606.426080</td>\n",
              "      <td>2129.786075</td>\n",
              "      <td>47.353868</td>\n",
              "      <td>341.465298</td>\n",
              "      <td>9265.892095</td>\n",
              "      <td>0.027143</td>\n",
              "      <td>0.035219</td>\n",
              "    </tr>\n",
              "    <tr>\n",
              "      <th>min</th>\n",
              "      <td>2108.000000</td>\n",
              "      <td>3.350000e+05</td>\n",
              "      <td>1.000000</td>\n",
              "      <td>1.000000</td>\n",
              "      <td>293.000000</td>\n",
              "      <td>370.000000</td>\n",
              "      <td>1850.000000</td>\n",
              "      <td>237.000000</td>\n",
              "      <td>110.000000</td>\n",
              "      <td>42.260633</td>\n",
              "      <td>-71.169289</td>\n",
              "    </tr>\n",
              "    <tr>\n",
              "      <th>25%</th>\n",
              "      <td>2116.000000</td>\n",
              "      <td>5.399750e+05</td>\n",
              "      <td>2.000000</td>\n",
              "      <td>1.000000</td>\n",
              "      <td>782.000000</td>\n",
              "      <td>798.000000</td>\n",
              "      <td>1899.000000</td>\n",
              "      <td>498.000000</td>\n",
              "      <td>219.750000</td>\n",
              "      <td>42.331997</td>\n",
              "      <td>-71.085432</td>\n",
              "    </tr>\n",
              "    <tr>\n",
              "      <th>50%</th>\n",
              "      <td>2122.000000</td>\n",
              "      <td>6.870000e+05</td>\n",
              "      <td>2.000000</td>\n",
              "      <td>1.000000</td>\n",
              "      <td>1011.500000</td>\n",
              "      <td>1032.500000</td>\n",
              "      <td>1905.000000</td>\n",
              "      <td>753.000000</td>\n",
              "      <td>350.000000</td>\n",
              "      <td>42.341677</td>\n",
              "      <td>-71.070285</td>\n",
              "    </tr>\n",
              "    <tr>\n",
              "      <th>75%</th>\n",
              "      <td>2128.000000</td>\n",
              "      <td>9.017500e+05</td>\n",
              "      <td>2.250000</td>\n",
              "      <td>2.000000</td>\n",
              "      <td>1368.000000</td>\n",
              "      <td>1533.000000</td>\n",
              "      <td>1983.000000</td>\n",
              "      <td>1034.250000</td>\n",
              "      <td>478.000000</td>\n",
              "      <td>42.353390</td>\n",
              "      <td>-71.052340</td>\n",
              "    </tr>\n",
              "    <tr>\n",
              "      <th>max</th>\n",
              "      <td>2215.000000</td>\n",
              "      <td>7.450000e+06</td>\n",
              "      <td>5.000000</td>\n",
              "      <td>3.500000</td>\n",
              "      <td>4300.000000</td>\n",
              "      <td>10018.000000</td>\n",
              "      <td>2020.000000</td>\n",
              "      <td>1806.000000</td>\n",
              "      <td>99999.000000</td>\n",
              "      <td>42.390130</td>\n",
              "      <td>-70.995862</td>\n",
              "    </tr>\n",
              "  </tbody>\n",
              "</table>\n",
              "</div>"
            ],
            "text/plain": [
              "          zip_code         price  ...    latitude   longitude\n",
              "count   116.000000  1.160000e+02  ...  116.000000  116.000000\n",
              "mean   2125.198276  9.351388e+05  ...   42.337190  -71.074904\n",
              "std      18.692579  8.845641e+05  ...    0.027143    0.035219\n",
              "min    2108.000000  3.350000e+05  ...   42.260633  -71.169289\n",
              "25%    2116.000000  5.399750e+05  ...   42.331997  -71.085432\n",
              "50%    2122.000000  6.870000e+05  ...   42.341677  -71.070285\n",
              "75%    2128.000000  9.017500e+05  ...   42.353390  -71.052340\n",
              "max    2215.000000  7.450000e+06  ...   42.390130  -70.995862\n",
              "\n",
              "[8 rows x 11 columns]"
            ]
          },
          "metadata": {
            "tags": []
          },
          "execution_count": 39
        }
      ]
    },
    {
      "cell_type": "code",
      "metadata": {
        "id": "XCgwo0Mi0AnL",
        "colab_type": "code",
        "colab": {
          "base_uri": "https://localhost:8080/",
          "height": 34
        },
        "outputId": "17aef12b-4003-4ab2-e8ef-7f77e40933d3"
      },
      "source": [
        "print(df.shape,df1.shape)"
      ],
      "execution_count": 40,
      "outputs": [
        {
          "output_type": "stream",
          "text": [
            "(350, 20) (116, 20)\n"
          ],
          "name": "stdout"
        }
      ]
    },
    {
      "cell_type": "code",
      "metadata": {
        "id": "F1mYcjHy_nbj",
        "colab_type": "code",
        "colab": {
          "base_uri": "https://localhost:8080/",
          "height": 374
        },
        "outputId": "1c487d7f-d7cb-4d53-8dee-ffc364128c78"
      },
      "source": [
        "df1.isnull().sum()"
      ],
      "execution_count": 41,
      "outputs": [
        {
          "output_type": "execute_result",
          "data": {
            "text/plain": [
              "sale_type                 0\n",
              "property_type             0\n",
              "address                   0\n",
              "city                      0\n",
              "state_or_province         0\n",
              "zip_code                  0\n",
              "price                     0\n",
              "beds                      0\n",
              "baths                     0\n",
              "location                  0\n",
              "square_feet               0\n",
              "lot_size                  0\n",
              "year_built                0\n",
              "amount_per_square_feet    0\n",
              "HOA_per_month             0\n",
              "status                    0\n",
              "favorite                  0\n",
              "interested                0\n",
              "latitude                  0\n",
              "longitude                 0\n",
              "dtype: int64"
            ]
          },
          "metadata": {
            "tags": []
          },
          "execution_count": 41
        }
      ]
    },
    {
      "cell_type": "code",
      "metadata": {
        "id": "1KqqQ94sB7Yr",
        "colab_type": "code",
        "colab": {
          "base_uri": "https://localhost:8080/",
          "height": 34
        },
        "outputId": "8619215d-eef3-4e67-95a6-3fa03a6b58c2"
      },
      "source": [
        "bedding_count_1=df1.loc[df1['beds']==1]\n",
        "bedding_count_2=df1.loc[df1['beds']==2]\n",
        "bedding_count_3=df1.loc[df1['beds']==3]\n",
        "bedding_count_4=df1.loc[df1['beds']==4]\n",
        "bedding_count_5=df1.loc[df1['beds']==5]\n",
        "print(bedding_count_1.shape,bedding_count_2.shape,bedding_count_3.shape,bedding_count_4.shape,bedding_count_5.shape)"
      ],
      "execution_count": 42,
      "outputs": [
        {
          "output_type": "stream",
          "text": [
            "(26, 20) (61, 20) (26, 20) (2, 20) (1, 20)\n"
          ],
          "name": "stdout"
        }
      ]
    },
    {
      "cell_type": "code",
      "metadata": {
        "id": "MQwjphmVCdHB",
        "colab_type": "code",
        "colab": {
          "base_uri": "https://localhost:8080/",
          "height": 288
        },
        "outputId": "4f5f81e0-7b4a-401c-ad4b-f20875a7fd5f"
      },
      "source": [
        "df1['beds'].value_counts().plot(kind='bar')"
      ],
      "execution_count": 43,
      "outputs": [
        {
          "output_type": "execute_result",
          "data": {
            "text/plain": [
              "<matplotlib.axes._subplots.AxesSubplot at 0x7fa2e6d47e48>"
            ]
          },
          "metadata": {
            "tags": []
          },
          "execution_count": 43
        },
        {
          "output_type": "display_data",
          "data": {
            "image/png": "[encoded data removed]",
            "text/plain": [
              "<Figure size 432x288 with 1 Axes>"
            ]
          },
          "metadata": {
            "tags": [],
            "needs_background": "light"
          }
        }
      ]
    },
    {
      "cell_type": "code",
      "metadata": {
        "id": "jmG0bNO-3ggt",
        "colab_type": "code",
        "colab": {
          "base_uri": "https://localhost:8080/",
          "height": 255
        },
        "outputId": "822cbaee-7592-4258-bc2a-8710312b9310"
      },
      "source": [
        "avg_price = df1.groupby(['location','year_built']).agg({'price':'mean','price':'median'})\n",
        "sorted_avgPrice = print(avg_price.reset_index().sort_values(['price','year_built'],ascending=False))"
      ],
      "execution_count": 44,
      "outputs": [
        {
          "output_type": "stream",
          "text": [
            "                location  year_built    price\n",
            "49               Midtown      2001.0  7450000\n",
            "83            Waterfront      1850.0  4250000\n",
            "3               Back Bay      1863.0  2725000\n",
            "52             North End      1899.0  2595000\n",
            "87            Waterfront      1987.0  2495000\n",
            "..                   ...         ...      ...\n",
            "35           East Boston      1900.0   399897\n",
            "24              Brighton      1930.0   388000\n",
            "17                Boston      1926.0   374900\n",
            "15                Boston      1910.0   359000\n",
            "31  Dorchester's Ashmont      1960.0   335000\n",
            "\n",
            "[92 rows x 3 columns]\n"
          ],
          "name": "stdout"
        }
      ]
    },
    {
      "cell_type": "code",
      "metadata": {
        "id": "_5CZhwR63f1n",
        "colab_type": "code",
        "colab": {
          "base_uri": "https://localhost:8080/",
          "height": 594
        },
        "outputId": "877ee9eb-d692-4a16-97d0-554cf341fe94"
      },
      "source": [
        "avg_price.plot(kind='bar',figsize=(30,8))"
      ],
      "execution_count": 45,
      "outputs": [
        {
          "output_type": "execute_result",
          "data": {
            "text/plain": [
              "<matplotlib.axes._subplots.AxesSubplot at 0x7fa2e87c94e0>"
            ]
          },
          "metadata": {
            "tags": []
          },
          "execution_count": 45
        },
        {
          "output_type": "display_data",
          "data": {
            "image/png": "[encoded data removed]",
            "text/plain": [
              "<Figure size 2160x576 with 1 Axes>"
            ]
          },
          "metadata": {
            "tags": [],
            "needs_background": "light"
          }
        }
      ]
    },
    {
      "cell_type": "markdown",
      "metadata": {
        "id": "PMc4jskk_O7o",
        "colab_type": "text"
      },
      "source": [
        "#Outliers"
      ]
    },
    {
      "cell_type": "code",
      "metadata": {
        "id": "AdDqmypl_Ct-",
        "colab_type": "code",
        "colab": {
          "base_uri": "https://localhost:8080/",
          "height": 329
        },
        "outputId": "ceb83425-12ca-46fc-c295-07c80abf7eec"
      },
      "source": [
        "#remove the red dots, they are outside the normal distribution(Gaussian)\n",
        "mean,std=np.mean(df1['price']),np.std(df1['price'])\n",
        "z_score = np.abs((df1['price']-mean)/std)\n",
        "threshold=3\n",
        "good=z_score<threshold\n",
        "\n",
        "print(f'Rejection {(~good).sum()} points')\n",
        "print(f'z-score of 3 corresponds to a prob of {100*2*norm.sf(threshold):0.2f}%')\n",
        "visual_scatter = np.random.normal(size=df1['price'].size)\n",
        "plt.scatter(df1['price'][good], visual_scatter[good], s=2, label='Good', color='#4CAF50')\n",
        "plt.scatter(df1['price'][~good], visual_scatter[~good], s=8, label='Bad', color='#F44336')\n"
      ],
      "execution_count": 46,
      "outputs": [
        {
          "output_type": "stream",
          "text": [
            "Rejection 3 points\n",
            "z-score of 3 corresponds to a prob of 0.27%\n"
          ],
          "name": "stdout"
        },
        {
          "output_type": "execute_result",
          "data": {
            "text/plain": [
              "<matplotlib.collections.PathCollection at 0x7fa2e6a37be0>"
            ]
          },
          "metadata": {
            "tags": []
          },
          "execution_count": 46
        },
        {
          "output_type": "display_data",
          "data": {
            "image/png": "[encoded data removed]",
            "text/plain": [
              "<Figure size 432x288 with 1 Axes>"
            ]
          },
          "metadata": {
            "tags": [],
            "needs_background": "light"
          }
        }
      ]
    },
    {
      "cell_type": "markdown",
      "metadata": {
        "id": "SbGN57KLHD6d",
        "colab_type": "text"
      },
      "source": [
        "#Annother way to trim outliers\n",
        "Use LOF"
      ]
    },
    {
      "cell_type": "code",
      "metadata": {
        "id": "QVKUJx0gHDmK",
        "colab_type": "code",
        "colab": {
          "base_uri": "https://localhost:8080/",
          "height": 52
        },
        "outputId": "8667f5a3-3adb-4238-f870-2553d387320f"
      },
      "source": [
        "'''\n",
        "lof = LocalOutlierFactor(n_neighbors=20, contamination=0.005)\n",
        "good = lof.fit_predict(df1) == 1\n",
        "plt.scatter(df1[good, 0], df1[good, 1], s=2, label=\"Good\", color=\"#4CAF50\")\n",
        "plt.scatter(df1[~good, 0], df1[~good, 1], s=8, label=\"Bad\", color=\"#F44336\")\n",
        "plt.legend();\n",
        "'''"
      ],
      "execution_count": 47,
      "outputs": [
        {
          "output_type": "execute_result",
          "data": {
            "application/vnd.google.colaboratory.intrinsic": {
              "type": "string"
            },
            "text/plain": [
              "'\\nlof = LocalOutlierFactor(n_neighbors=20, contamination=0.005)\\ngood = lof.fit_predict(df1) == 1\\nplt.scatter(df1[good, 0], df1[good, 1], s=2, label=\"Good\", color=\"#4CAF50\")\\nplt.scatter(df1[~good, 0], df1[~good, 1], s=8, label=\"Bad\", color=\"#F44336\")\\nplt.legend();\\n'"
            ]
          },
          "metadata": {
            "tags": []
          },
          "execution_count": 47
        }
      ]
    },
    {
      "cell_type": "markdown",
      "metadata": {
        "id": "0wYdd1pTP2v8",
        "colab_type": "text"
      },
      "source": [
        "#Trim outliers (Recommended)"
      ]
    },
    {
      "cell_type": "code",
      "metadata": {
        "id": "G_L1IHT8BdrJ",
        "colab_type": "code",
        "colab": {
          "base_uri": "https://localhost:8080/",
          "height": 349
        },
        "outputId": "20fb00a7-2c33-4b46-db35-286ceb003437"
      },
      "source": [
        "plt.figure(figsize=(20,5))\n",
        "df1.boxplot()"
      ],
      "execution_count": 48,
      "outputs": [
        {
          "output_type": "execute_result",
          "data": {
            "text/plain": [
              "<matplotlib.axes._subplots.AxesSubplot at 0x7fa2e87a23c8>"
            ]
          },
          "metadata": {
            "tags": []
          },
          "execution_count": 48
        },
        {
          "output_type": "display_data",
          "data": {
            "image/png": "[encoded data removed]",
            "text/plain": [
              "<Figure size 1440x360 with 1 Axes>"
            ]
          },
          "metadata": {
            "tags": [],
            "needs_background": "light"
          }
        }
      ]
    },
    {
      "cell_type": "code",
      "metadata": {
        "id": "8hjWViGFGYJu",
        "colab_type": "code",
        "colab": {
          "base_uri": "https://localhost:8080/",
          "height": 401
        },
        "outputId": "1d83ab28-b156-4535-8414-817a2e0072d4"
      },
      "source": [
        "plt.boxplot(df1['beds'])"
      ],
      "execution_count": 49,
      "outputs": [
        {
          "output_type": "execute_result",
          "data": {
            "text/plain": [
              "{'boxes': [<matplotlib.lines.Line2D at 0x7fa2e6873710>],\n",
              " 'caps': [<matplotlib.lines.Line2D at 0x7fa2e687f160>,\n",
              "  <matplotlib.lines.Line2D at 0x7fa2e687f4e0>],\n",
              " 'fliers': [<matplotlib.lines.Line2D at 0x7fa2e687fbe0>],\n",
              " 'means': [],\n",
              " 'medians': [<matplotlib.lines.Line2D at 0x7fa2e687f860>],\n",
              " 'whiskers': [<matplotlib.lines.Line2D at 0x7fa2e6873a20>,\n",
              "  <matplotlib.lines.Line2D at 0x7fa2e6873da0>]}"
            ]
          },
          "metadata": {
            "tags": []
          },
          "execution_count": 49
        },
        {
          "output_type": "display_data",
          "data": {
            "image/png": "[encoded data removed]",
            "text/plain": [
              "<Figure size 432x288 with 1 Axes>"
            ]
          },
          "metadata": {
            "tags": [],
            "needs_background": "light"
          }
        }
      ]
    },
    {
      "cell_type": "code",
      "metadata": {
        "id": "E-q2svdUXmGK",
        "colab_type": "code",
        "colab": {}
      },
      "source": [
        "#Trim outliers:\n",
        "starting_percentile = df1['price'].quantile(.05)\n",
        "ending_percentile = df1['price'].quantile(.95)\n",
        "price_outliers_df = df1.loc[((df1['price'] <= starting_percentile) | (df1['price'] >= ending_percentile))]\n",
        "df_trimmed = df1.loc[((df1['price'] > starting_percentile) & (df1['price'] < ending_percentile))]"
      ],
      "execution_count": 50,
      "outputs": []
    },
    {
      "cell_type": "code",
      "metadata": {
        "id": "aHTcL8lqeQmT",
        "colab_type": "code",
        "colab": {
          "base_uri": "https://localhost:8080/",
          "height": 34
        },
        "outputId": "145e6a96-b8cf-4496-88da-4d3a81e17184"
      },
      "source": [
        "print(df1.shape,df_trimmed.shape)"
      ],
      "execution_count": 53,
      "outputs": [
        {
          "output_type": "stream",
          "text": [
            "(116, 20) (104, 20)\n"
          ],
          "name": "stdout"
        }
      ]
    },
    {
      "cell_type": "code",
      "metadata": {
        "id": "YkvnVtFd3CAq",
        "colab_type": "code",
        "colab": {}
      },
      "source": [
        "df_trimmed.to_csv('boston_housing_revised')"
      ],
      "execution_count": 54,
      "outputs": []
    },
    {
      "cell_type": "markdown",
      "metadata": {
        "id": "EwS35GimP8I0",
        "colab_type": "text"
      },
      "source": [
        "#TO BE Continued..."
      ]
    }
  ]
}